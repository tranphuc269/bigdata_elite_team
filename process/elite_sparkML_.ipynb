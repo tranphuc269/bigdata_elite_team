{
 "cells": [
  {
   "cell_type": "markdown",
   "metadata": {},
   "source": [
    "# **PySpark**: The Apache Spark Python API"
   ]
  },
  {
   "cell_type": "markdown",
   "metadata": {},
   "source": [
    "## 1. Introduction\n",
    "\n",
    "This notebook shows how to connect Jupyter notebooks to a Spark cluster to process data using Spark Python API."
   ]
  },
  {
   "cell_type": "markdown",
   "metadata": {},
   "source": [
    "## 2. The Spark Cluster"
   ]
  },
  {
   "cell_type": "markdown",
   "metadata": {},
   "source": [
    "### 2.1. Connection\n",
    "\n",
    "To connect to the Spark cluster, create a SparkSession object with the following params:\n",
    "\n",
    "+ **appName:** application name displayed at the [Spark Master Web UI](http://localhost:8080/);\n",
    "+ **master:** Spark Master URL, same used by Spark Workers;\n",
    "+ **spark.executor.memory:** must be less than or equals to docker compose SPARK_WORKER_MEMORY config."
   ]
  },
  {
   "cell_type": "code",
   "execution_count": 2,
   "metadata": {},
   "outputs": [
    {
     "name": "stderr",
     "output_type": "stream",
     "text": [
      "22/01/05 21:22:06 WARN NativeCodeLoader: Unable to load native-hadoop library for your platform... using builtin-java classes where applicable\n",
      "Using Spark's default log4j profile: org/apache/spark/log4j-defaults.properties\n",
      "Setting default log level to \"WARN\".\n",
      "To adjust logging level use sc.setLogLevel(newLevel). For SparkR, use setLogLevel(newLevel).\n"
     ]
    },
    {
     "data": {
      "text/html": [
       "\n",
       "            <div>\n",
       "                <p><b>SparkSession - in-memory</b></p>\n",
       "                \n",
       "        <div>\n",
       "            <p><b>SparkContext</b></p>\n",
       "\n",
       "            <p><a href=\"http://5c255da36bca:4040\">Spark UI</a></p>\n",
       "\n",
       "            <dl>\n",
       "              <dt>Version</dt>\n",
       "                <dd><code>v3.0.0</code></dd>\n",
       "              <dt>Master</dt>\n",
       "                <dd><code>spark://spark-master:7077</code></dd>\n",
       "              <dt>AppName</dt>\n",
       "                <dd><code>pyspark-notebook</code></dd>\n",
       "            </dl>\n",
       "        </div>\n",
       "        \n",
       "            </div>\n",
       "        "
      ],
      "text/plain": [
       "<pyspark.sql.session.SparkSession at 0x7f0e4afda820>"
      ]
     },
     "execution_count": 2,
     "metadata": {},
     "output_type": "execute_result"
    }
   ],
   "source": [
    "from pyspark.sql import SparkSession\n",
    "\n",
    "spark = SparkSession.\\\n",
    "        builder.\\\n",
    "        appName(\"pyspark-notebook\").\\\n",
    "        master(\"spark://spark-master:7077\").\\\n",
    "        config(\"spark.executor.memory\", \"512m\").\\\n",
    "        config(\"spark.driver.memory\",\"16G\").\\\n",
    "        config(\"spark.driver.maxResultSize\", \"0\").\\\n",
    "        getOrCreate()\n",
    "spark"
   ]
  },
  {
   "cell_type": "code",
   "execution_count": 10,
   "metadata": {},
   "outputs": [
    {
     "name": "stdout",
     "output_type": "stream",
     "text": [
      "Requirement already satisfied: sparknlp in /usr/local/lib/python3.9/dist-packages (1.0.0)\n",
      "Requirement already satisfied: numpy in /usr/local/lib/python3.9/dist-packages (from sparknlp) (1.22.0)\n",
      "Requirement already satisfied: spark-nlp in /usr/local/lib/python3.9/dist-packages (from sparknlp) (3.4.0)\n",
      "\u001b[33mWARNING: Running pip as the 'root' user can result in broken permissions and conflicting behaviour with the system package manager. It is recommended to use a virtual environment instead: https://pip.pypa.io/warnings/venv\u001b[0m\n"
     ]
    }
   ],
   "source": [
    "!pip install sparknlp"
   ]
  },
  {
   "cell_type": "code",
   "execution_count": null,
   "metadata": {},
   "outputs": [],
   "source": [
    "!pip install wget\n",
    "!wget http://setup.johnsnowlabs.com/colab.sh -O - | bash"
   ]
  },
  {
   "cell_type": "markdown",
   "metadata": {},
   "source": [
    "More confs for SparkSession object in standalone mode can be added using the **config** method. Checkout the API docs [here](https://spark.apache.org/docs/latest/api/python/pyspark.sql.html#pyspark.sql.SparkSession)."
   ]
  },
  {
   "cell_type": "markdown",
   "metadata": {},
   "source": [
    "## 3. The Data"
   ]
  },
  {
   "cell_type": "markdown",
   "metadata": {},
   "source": [
    "### 3.1. Introduction\n",
    "\n",
    "We will be using Spark Python API to read, process and write data. Checkout the API docs [here](https://spark.apache.org/docs/latest/api/python/index.html)."
   ]
  },
  {
   "cell_type": "markdown",
   "metadata": {},
   "source": [
    "### 3.2. Read\n",
    "\n",
    "Let's read some UK's macroeconomic data ([source](https://www.kaggle.com/bank-of-england/a-millennium-of-macroeconomic-data)) from the cluster's simulated **Hadoop distributed file system (HDFS)** into a Spark dataframe."
   ]
  },
  {
   "cell_type": "code",
   "execution_count": 35,
   "metadata": {},
   "outputs": [],
   "source": [
    "\n",
    "# dataset = spark.read \\\n",
    "#       .option(\"header\", True) \\\n",
    "#       .json(\"data/Prime_Pantry.json\")\n",
    "dataset = spark.read \\\n",
    "      .option(\"header\", True) \\\n",
    "      .option(\"inferSchema\", True) \\\n",
    "      .option('quote', '\"') \\\n",
    "      .option('escape', '\"') \\\n",
    "      .csv(\"hdfs://namenode:9000/data/preprocessed_data.csv\")\n",
    "      "
   ]
  },
  {
   "cell_type": "markdown",
   "metadata": {},
   "source": [
    "Let's then display some dataframe metadata, such as the number of rows and cols and its schema (cols name and type)."
   ]
  },
  {
   "cell_type": "code",
   "execution_count": 36,
   "metadata": {},
   "outputs": [],
   "source": [
    "from pyspark.sql.functions import rand \n",
    "dataset = dataset.orderBy(rand()) # Shuffle"
   ]
  },
  {
   "cell_type": "code",
   "execution_count": 37,
   "metadata": {},
   "outputs": [
    {
     "name": "stdout",
     "output_type": "stream",
     "text": [
      "+----+--------------------+------------------+\n",
      "| _c0|              inputs|           outputs|\n",
      "+----+--------------------+------------------+\n",
      "|  23|cổ_điển nổi_tiếng...|         am-nhac-1|\n",
      "|3872|ươm mầm trí_tuệ t...|my-thuat-kien-truc|\n",
      "|4451|phương_pháp nuôi ...|   nong-lam-nghiep|\n",
      "|6445|bóng_đá 12 vì tin...|          the-thao|\n",
      "|6862|phim đời vượt lên...|van-hoa-nghe-thuat|\n",
      "+----+--------------------+------------------+\n",
      "only showing top 5 rows\n",
      "\n"
     ]
    }
   ],
   "source": [
    "dataset.show(5)"
   ]
  },
  {
   "cell_type": "code",
   "execution_count": 38,
   "metadata": {},
   "outputs": [],
   "source": [
    "from pyspark.ml.feature import RegexTokenizer, StopWordsRemover, CountVectorizer\n",
    "from pyspark.ml.classification import LogisticRegression\n",
    "from pyspark.ml.evaluation import MulticlassClassificationEvaluator\n",
    "# regular expression tokenizer\n",
    "regexTokenizer = RegexTokenizer(inputCol=\"inputs\", outputCol=\"words\", pattern=\"\\\\W\")\n",
    "# stop words\n",
    "add_stopwords = [\"http\",\"https\",\"amp\",\"rt\",\"t\",\"c\",\"the\"] \n",
    "stopwordsRemover = StopWordsRemover(inputCol=\"words\", outputCol=\"filtered\").setStopWords(add_stopwords)\n",
    "# bag of words count\n",
    "countVectors = CountVectorizer(inputCol=\"filtered\", outputCol=\"features\", vocabSize=10000, minDF=5)\n",
    "evaluator = MulticlassClassificationEvaluator(predictionCol=\"prediction\")"
   ]
  },
  {
   "cell_type": "code",
   "execution_count": 39,
   "metadata": {},
   "outputs": [
    {
     "name": "stderr",
     "output_type": "stream",
     "text": [
      "                                                                                \r"
     ]
    },
    {
     "name": "stdout",
     "output_type": "stream",
     "text": [
      "+----+--------------------+------------------+--------------------+--------------------+--------------------+-----+\n",
      "| _c0|              inputs|           outputs|               words|            filtered|            features|label|\n",
      "+----+--------------------+------------------+--------------------+--------------------+--------------------+-----+\n",
      "|  23|cổ_điển nổi_tiếng...|         am-nhac-1|[c, _, i, n, n, i...|[_, i, n, n, i_ti...|(3929,[0,1,2,3,4,...| 11.0|\n",
      "|3872|ươm mầm trí_tuệ t...|my-thuat-kien-truc|[m, m, m, tr, _tu...|[m, m, m, tr, _tu...|(3929,[0,1,3,4,5,...|  8.0|\n",
      "|4451|phương_pháp nuôi ...|   nong-lam-nghiep|[ph, ng_ph, p, nu...|[ph, ng_ph, p, nu...|(3929,[0,1,2,3,4,...|  7.0|\n",
      "|6445|bóng_đá 12 vì tin...|          the-thao|[b, ng_, 12, v, t...|[b, ng_, 12, v, t...|(3929,[0,1,2,3,4,...|  9.0|\n",
      "|6862|phim đời vượt lên...|van-hoa-nghe-thuat|[phim, i, v, t, l...|[phim, i, v, l, n...|(3929,[0,1,2,3,4,...| 12.0|\n",
      "+----+--------------------+------------------+--------------------+--------------------+--------------------+-----+\n",
      "only showing top 5 rows\n",
      "\n"
     ]
    }
   ],
   "source": [
    "from pyspark.ml import Pipeline\n",
    "from pyspark.ml.feature import OneHotEncoder, StringIndexer, VectorAssembler\n",
    "label_stringIdx = StringIndexer(inputCol = \"outputs\", outputCol = \"label\")\n",
    "pipeline = Pipeline(stages=[regexTokenizer, stopwordsRemover, countVectors, label_stringIdx])\n",
    "# Fit the pipeline to training documents.\n",
    "pipelineFit = pipeline.fit(dataset)\n",
    "dataset = pipelineFit.transform(dataset)\n",
    "dataset.show(5)"
   ]
  },
  {
   "cell_type": "code",
   "execution_count": 40,
   "metadata": {},
   "outputs": [
    {
     "name": "stdout",
     "output_type": "stream",
     "text": [
      "+----+--------------------+--------------------+--------------------+--------------------+--------------------+-----+\n",
      "| _c0|              inputs|             outputs|               words|            filtered|            features|label|\n",
      "+----+--------------------+--------------------+--------------------+--------------------+--------------------+-----+\n",
      "|  23|cổ_điển nổi_tiếng...|           am-nhac-1|[c, _, i, n, n, i...|[_, i, n, n, i_ti...|(3929,[0,1,2,3,4,...| 11.0|\n",
      "| 571|lão tử đạo_đức ki...| chinh-tri-triet-hoc|[l, o, t, o_, c, ...|[l, o, o_, kinh, ...|(3929,[0,1,2,3,4,...|  5.0|\n",
      "| 770|nha trang_điểm hẹ...|           du-lich-1|[nha, trang_, i, ...|[nha, trang_, i, ...|(3929,[0,1,2,3,4,...| 13.0|\n",
      "| 936|hỗn_độn hài_hòa t...|     khoa-hoc-co-ban|[h, n_, n, h, i_h...|[h, n_, n, h, i_h...|(3929,[0,1,2,3,4,...| 10.0|\n",
      "| 979|sổ_tay kiến_thức_...|     khoa-hoc-co-ban|[s, _tay, ki, n_t...|[s, _tay, ki, n_t...|(3929,[0,1,2,3,6,...| 10.0|\n",
      "|1419|thiết_kế vi_mạch ...|   khoa-hoc-ky-thuat|[thi, t_k, vi_m, ...|[thi, t_k, vi_m, ...|(3929,[0,1,3,4,7,...|  6.0|\n",
      "|1475|công_nghệ tạo_hìn...|   khoa-hoc-ky-thuat|[c, ng_ngh, t, o_...|[ng_ngh, o_h, nh,...|(3929,[0,1,2,3,4,...|  6.0|\n",
      "|1649|about muốn tái_bả...|khoa-hoc-tu-nhien...|[about, mu, n, t,...|[about, mu, n, i_...|(3929,[0,1,2,3,4,...|  3.0|\n",
      "|1730|bên quả trứng gì ...|khoa-hoc-tu-nhien...|[b, n, qu, tr, ng...|[b, n, qu, tr, ng...|(3929,[0,1,2,3,4,...|  3.0|\n",
      "|2240|hãy trả_lời em tạ...|khoa-hoc-tu-nhien...|[h, y, tr, _l, i,...|[h, y, tr, _l, i,...|(3929,[0,1,2,3,4,...|  3.0|\n",
      "+----+--------------------+--------------------+--------------------+--------------------+--------------------+-----+\n",
      "only showing top 10 rows\n",
      "\n"
     ]
    },
    {
     "name": "stderr",
     "output_type": "stream",
     "text": [
      "[Stage 98:==================================>                       (3 + 2) / 5]\r"
     ]
    },
    {
     "name": "stdout",
     "output_type": "stream",
     "text": [
      "+----+--------------------+--------------------+--------------------+--------------------+--------------------+-----+\n",
      "| _c0|              inputs|             outputs|               words|            filtered|            features|label|\n",
      "+----+--------------------+--------------------+--------------------+--------------------+--------------------+-----+\n",
      "| 808|500 danh_lam 500 ...|           du-lich-1|[500, danh_lam, 5...|[500, danh_lam, 5...|(3929,[0,1,2,3,4,...| 13.0|\n",
      "|1951|trắc_nghiệm thông...|khoa-hoc-tu-nhien...|[tr, c_nghi, m, t...|[tr, c_nghi, m, t...|(3929,[0,1,2,3,4,...|  3.0|\n",
      "|2545|hoàng lê nhất_thố...|      lich-su-dia-ly|[ho, ng, l, nh, t...|[ho, ng, l, nh, t...|(3929,[0,1,2,3,4,...|  0.0|\n",
      "|3961|1000 gương_mặt th...|  my-thuat-kien-truc|[1000, g, ng_m, t...|[1000, g, ng_m, t...|(3929,[0,1,2,3,4,...|  8.0|\n",
      "|4746|luật thuế thu_nhậ...|         phap-luat-1|[lu, t, thu, thu_...|[lu, thu, thu_nh,...|(3929,[0,1,2,3,4,...|  4.0|\n",
      "|5361|thiền_sư em bé 5 ...|       sach-ton-giao|[thi, n_s, em, b,...|[thi, n_s, em, b,...|(3929,[0,1,2,3,4,...|  2.0|\n",
      "|6791|nổi_tiếng khuôn_m...|  van-hoa-nghe-thuat|[n, i_ti, ng, khu...|[n, i_ti, ng, khu...|(3929,[0,1,2,3,4,...| 12.0|\n",
      "|6862|phim đời vượt lên...|  van-hoa-nghe-thuat|[phim, i, v, t, l...|[phim, i, v, l, n...|(3929,[0,1,2,3,4,...| 12.0|\n",
      "|7080|lối lành_mạnh phò...|               y-hoc|[l, i, l, nh_m, n...|[l, i, l, nh_m, n...|(3929,[0,1,2,3,4,...|  1.0|\n",
      "|7670|y tướng học truyề...|               y-hoc|[y, t, ng, h, c, ...|[y, ng, h, truy, ...|(3929,[0,1,2,3,4,...|  1.0|\n",
      "+----+--------------------+--------------------+--------------------+--------------------+--------------------+-----+\n",
      "only showing top 10 rows\n",
      "\n"
     ]
    },
    {
     "name": "stderr",
     "output_type": "stream",
     "text": [
      "                                                                                \r"
     ]
    }
   ],
   "source": [
    "# set seed for reproducibility\n",
    "(trainingData, testData) = dataset.randomSplit([0.8, 0.2], seed = 100)\n",
    "trainingData.show(10)\n",
    "testData.show(10)"
   ]
  },
  {
   "cell_type": "code",
   "execution_count": 41,
   "metadata": {},
   "outputs": [
    {
     "name": "stderr",
     "output_type": "stream",
     "text": [
      "22/01/05 21:41:32 WARN BLAS: Failed to load implementation from: com.github.fommil.netlib.NativeSystemBLAS\n",
      "22/01/05 21:41:32 WARN BLAS: Failed to load implementation from: com.github.fommil.netlib.NativeRefBLAS\n",
      "22/01/05 21:43:55 WARN TaskSetManager: Lost task 73.0 in stage 343.0 (TID 18205, 172.31.0.10, executor 0): org.apache.spark.memory.SparkOutOfMemoryError: Unable to acquire 12042556 bytes of memory, got 10678061\n",
      "\tat org.apache.spark.memory.MemoryConsumer.throwOom(MemoryConsumer.java:157)\n",
      "\tat org.apache.spark.memory.MemoryConsumer.allocatePage(MemoryConsumer.java:118)\n",
      "\tat org.apache.spark.util.collection.unsafe.sort.UnsafeExternalSorter.acquireNewPageIfNecessary(UnsafeExternalSorter.java:381)\n",
      "\tat org.apache.spark.util.collection.unsafe.sort.UnsafeExternalSorter.insertRecord(UnsafeExternalSorter.java:405)\n",
      "\tat org.apache.spark.sql.execution.UnsafeExternalRowSorter.insertRow(UnsafeExternalRowSorter.java:138)\n",
      "\tat org.apache.spark.sql.catalyst.expressions.GeneratedClass$GeneratedIteratorForCodegenStage2.sort_addToSorter_0$(Unknown Source)\n",
      "\tat org.apache.spark.sql.catalyst.expressions.GeneratedClass$GeneratedIteratorForCodegenStage2.processNext(Unknown Source)\n",
      "\tat org.apache.spark.sql.execution.BufferedRowIterator.hasNext(BufferedRowIterator.java:43)\n",
      "\tat org.apache.spark.sql.execution.WholeStageCodegenExec$$anon$1.hasNext(WholeStageCodegenExec.scala:729)\n",
      "\tat org.apache.spark.sql.execution.columnar.CachedRDDBuilder$$anon$1.hasNext(InMemoryRelation.scala:132)\n",
      "\tat org.apache.spark.storage.memory.MemoryStore.putIterator(MemoryStore.scala:221)\n",
      "\tat org.apache.spark.storage.memory.MemoryStore.putIteratorAsValues(MemoryStore.scala:299)\n",
      "\tat org.apache.spark.storage.BlockManager.$anonfun$doPutIterator$1(BlockManager.scala:1371)\n",
      "\tat org.apache.spark.storage.BlockManager.org$apache$spark$storage$BlockManager$$doPut(BlockManager.scala:1298)\n",
      "\tat org.apache.spark.storage.BlockManager.doPutIterator(BlockManager.scala:1362)\n",
      "\tat org.apache.spark.storage.BlockManager.getOrElseUpdate(BlockManager.scala:1186)\n",
      "\tat org.apache.spark.rdd.RDD.getOrCompute(RDD.scala:360)\n",
      "\tat org.apache.spark.rdd.RDD.iterator(RDD.scala:311)\n",
      "\tat org.apache.spark.rdd.MapPartitionsRDD.compute(MapPartitionsRDD.scala:52)\n",
      "\tat org.apache.spark.rdd.RDD.computeOrReadCheckpoint(RDD.scala:349)\n",
      "\tat org.apache.spark.rdd.RDD.iterator(RDD.scala:313)\n",
      "\tat org.apache.spark.rdd.MapPartitionsRDD.compute(MapPartitionsRDD.scala:52)\n",
      "\tat org.apache.spark.rdd.RDD.computeOrReadCheckpoint(RDD.scala:349)\n",
      "\tat org.apache.spark.rdd.RDD.iterator(RDD.scala:313)\n",
      "\tat org.apache.spark.rdd.MapPartitionsRDD.compute(MapPartitionsRDD.scala:52)\n",
      "\tat org.apache.spark.rdd.RDD.computeOrReadCheckpoint(RDD.scala:349)\n",
      "\tat org.apache.spark.rdd.RDD.iterator(RDD.scala:313)\n",
      "\tat org.apache.spark.rdd.MapPartitionsRDD.compute(MapPartitionsRDD.scala:52)\n",
      "\tat org.apache.spark.rdd.RDD.computeOrReadCheckpoint(RDD.scala:349)\n",
      "\tat org.apache.spark.rdd.RDD.iterator(RDD.scala:313)\n",
      "\tat org.apache.spark.sql.execution.SQLExecutionRDD.$anonfun$compute$1(SQLExecutionRDD.scala:52)\n",
      "\tat org.apache.spark.sql.internal.SQLConf$.withExistingConf(SQLConf.scala:99)\n",
      "\tat org.apache.spark.sql.execution.SQLExecutionRDD.compute(SQLExecutionRDD.scala:52)\n",
      "\tat org.apache.spark.rdd.RDD.computeOrReadCheckpoint(RDD.scala:349)\n",
      "\tat org.apache.spark.rdd.RDD.iterator(RDD.scala:313)\n",
      "\tat org.apache.spark.rdd.MapPartitionsRDD.compute(MapPartitionsRDD.scala:52)\n",
      "\tat org.apache.spark.rdd.RDD.computeOrReadCheckpoint(RDD.scala:349)\n",
      "\tat org.apache.spark.rdd.RDD.iterator(RDD.scala:313)\n",
      "\tat org.apache.spark.rdd.MapPartitionsRDD.compute(MapPartitionsRDD.scala:52)\n",
      "\tat org.apache.spark.rdd.RDD.computeOrReadCheckpoint(RDD.scala:349)\n",
      "\tat org.apache.spark.rdd.RDD.iterator(RDD.scala:313)\n",
      "\tat org.apache.spark.rdd.MapPartitionsRDD.compute(MapPartitionsRDD.scala:52)\n",
      "\tat org.apache.spark.rdd.RDD.computeOrReadCheckpoint(RDD.scala:349)\n",
      "\tat org.apache.spark.rdd.RDD.iterator(RDD.scala:313)\n",
      "\tat org.apache.spark.shuffle.ShuffleWriteProcessor.write(ShuffleWriteProcessor.scala:59)\n",
      "\tat org.apache.spark.scheduler.ShuffleMapTask.runTask(ShuffleMapTask.scala:99)\n",
      "\tat org.apache.spark.scheduler.ShuffleMapTask.runTask(ShuffleMapTask.scala:52)\n",
      "\tat org.apache.spark.scheduler.Task.run(Task.scala:127)\n",
      "\tat org.apache.spark.executor.Executor$TaskRunner.$anonfun$run$3(Executor.scala:444)\n",
      "\tat org.apache.spark.util.Utils$.tryWithSafeFinally(Utils.scala:1377)\n",
      "\tat org.apache.spark.executor.Executor$TaskRunner.run(Executor.scala:447)\n",
      "\tat java.util.concurrent.ThreadPoolExecutor.runWorker(ThreadPoolExecutor.java:1149)\n",
      "\tat java.util.concurrent.ThreadPoolExecutor$Worker.run(ThreadPoolExecutor.java:624)\n",
      "\tat java.lang.Thread.run(Thread.java:748)\n",
      "\n",
      "22/01/05 21:44:49 WARN TaskSetManager: Lost task 73.0 in stage 423.0 (TID 23951, 172.31.0.11, executor 1): org.apache.spark.memory.SparkOutOfMemoryError: Unable to acquire 12042556 bytes of memory, got 10678061\n",
      "\tat org.apache.spark.memory.MemoryConsumer.throwOom(MemoryConsumer.java:157)\n",
      "\tat org.apache.spark.memory.MemoryConsumer.allocatePage(MemoryConsumer.java:118)\n",
      "\tat org.apache.spark.util.collection.unsafe.sort.UnsafeExternalSorter.acquireNewPageIfNecessary(UnsafeExternalSorter.java:381)\n",
      "\tat org.apache.spark.util.collection.unsafe.sort.UnsafeExternalSorter.insertRecord(UnsafeExternalSorter.java:405)\n",
      "\tat org.apache.spark.sql.execution.UnsafeExternalRowSorter.insertRow(UnsafeExternalRowSorter.java:138)\n",
      "\tat org.apache.spark.sql.catalyst.expressions.GeneratedClass$GeneratedIteratorForCodegenStage2.sort_addToSorter_0$(Unknown Source)\n",
      "\tat org.apache.spark.sql.catalyst.expressions.GeneratedClass$GeneratedIteratorForCodegenStage2.processNext(Unknown Source)\n",
      "\tat org.apache.spark.sql.execution.BufferedRowIterator.hasNext(BufferedRowIterator.java:43)\n",
      "\tat org.apache.spark.sql.execution.WholeStageCodegenExec$$anon$1.hasNext(WholeStageCodegenExec.scala:729)\n",
      "\tat org.apache.spark.sql.execution.columnar.CachedRDDBuilder$$anon$1.hasNext(InMemoryRelation.scala:132)\n",
      "\tat org.apache.spark.storage.memory.MemoryStore.putIterator(MemoryStore.scala:221)\n",
      "\tat org.apache.spark.storage.memory.MemoryStore.putIteratorAsValues(MemoryStore.scala:299)\n",
      "\tat org.apache.spark.storage.BlockManager.$anonfun$doPutIterator$1(BlockManager.scala:1371)\n",
      "\tat org.apache.spark.storage.BlockManager.org$apache$spark$storage$BlockManager$$doPut(BlockManager.scala:1298)\n",
      "\tat org.apache.spark.storage.BlockManager.doPutIterator(BlockManager.scala:1362)\n",
      "\tat org.apache.spark.storage.BlockManager.getOrElseUpdate(BlockManager.scala:1186)\n",
      "\tat org.apache.spark.rdd.RDD.getOrCompute(RDD.scala:360)\n",
      "\tat org.apache.spark.rdd.RDD.iterator(RDD.scala:311)\n",
      "\tat org.apache.spark.rdd.MapPartitionsRDD.compute(MapPartitionsRDD.scala:52)\n",
      "\tat org.apache.spark.rdd.RDD.computeOrReadCheckpoint(RDD.scala:349)\n",
      "\tat org.apache.spark.rdd.RDD.iterator(RDD.scala:313)\n",
      "\tat org.apache.spark.rdd.MapPartitionsRDD.compute(MapPartitionsRDD.scala:52)\n",
      "\tat org.apache.spark.rdd.RDD.computeOrReadCheckpoint(RDD.scala:349)\n",
      "\tat org.apache.spark.rdd.RDD.iterator(RDD.scala:313)\n",
      "\tat org.apache.spark.rdd.MapPartitionsRDD.compute(MapPartitionsRDD.scala:52)\n",
      "\tat org.apache.spark.rdd.RDD.computeOrReadCheckpoint(RDD.scala:349)\n",
      "\tat org.apache.spark.rdd.RDD.iterator(RDD.scala:313)\n",
      "\tat org.apache.spark.rdd.MapPartitionsRDD.compute(MapPartitionsRDD.scala:52)\n",
      "\tat org.apache.spark.rdd.RDD.computeOrReadCheckpoint(RDD.scala:349)\n",
      "\tat org.apache.spark.rdd.RDD.iterator(RDD.scala:313)\n",
      "\tat org.apache.spark.sql.execution.SQLExecutionRDD.$anonfun$compute$1(SQLExecutionRDD.scala:52)\n",
      "\tat org.apache.spark.sql.internal.SQLConf$.withExistingConf(SQLConf.scala:99)\n",
      "\tat org.apache.spark.sql.execution.SQLExecutionRDD.compute(SQLExecutionRDD.scala:52)\n",
      "\tat org.apache.spark.rdd.RDD.computeOrReadCheckpoint(RDD.scala:349)\n",
      "\tat org.apache.spark.rdd.RDD.iterator(RDD.scala:313)\n",
      "\tat org.apache.spark.rdd.MapPartitionsRDD.compute(MapPartitionsRDD.scala:52)\n",
      "\tat org.apache.spark.rdd.RDD.computeOrReadCheckpoint(RDD.scala:349)\n",
      "\tat org.apache.spark.rdd.RDD.iterator(RDD.scala:313)\n",
      "\tat org.apache.spark.rdd.MapPartitionsRDD.compute(MapPartitionsRDD.scala:52)\n",
      "\tat org.apache.spark.rdd.RDD.computeOrReadCheckpoint(RDD.scala:349)\n",
      "\tat org.apache.spark.rdd.RDD.iterator(RDD.scala:313)\n",
      "\tat org.apache.spark.rdd.MapPartitionsRDD.compute(MapPartitionsRDD.scala:52)\n",
      "\tat org.apache.spark.rdd.RDD.computeOrReadCheckpoint(RDD.scala:349)\n",
      "\tat org.apache.spark.rdd.RDD.iterator(RDD.scala:313)\n",
      "\tat org.apache.spark.shuffle.ShuffleWriteProcessor.write(ShuffleWriteProcessor.scala:59)\n",
      "\tat org.apache.spark.scheduler.ShuffleMapTask.runTask(ShuffleMapTask.scala:99)\n",
      "\tat org.apache.spark.scheduler.ShuffleMapTask.runTask(ShuffleMapTask.scala:52)\n",
      "\tat org.apache.spark.scheduler.Task.run(Task.scala:127)\n",
      "\tat org.apache.spark.executor.Executor$TaskRunner.$anonfun$run$3(Executor.scala:444)\n",
      "\tat org.apache.spark.util.Utils$.tryWithSafeFinally(Utils.scala:1377)\n",
      "\tat org.apache.spark.executor.Executor$TaskRunner.run(Executor.scala:447)\n",
      "\tat java.util.concurrent.ThreadPoolExecutor.runWorker(ThreadPoolExecutor.java:1149)\n",
      "\tat java.util.concurrent.ThreadPoolExecutor$Worker.run(ThreadPoolExecutor.java:624)\n",
      "\tat java.lang.Thread.run(Thread.java:748)\n",
      "\n",
      "                                                                                \r"
     ]
    }
   ],
   "source": [
    "lr = LogisticRegression(maxIter=20, regParam=0.3, elasticNetParam=0)\n",
    "from pyspark.ml.tuning import ParamGridBuilder, CrossValidator\n",
    "# Create ParamGrid for Cross Validation\n",
    "paramGrid = (ParamGridBuilder()\n",
    "             .addGrid(lr.regParam, [0.1]) # regularization parameter\n",
    "             .addGrid(lr.elasticNetParam, [0.1]) # Elastic Net Parameter (Ridge = 0)\n",
    "#            .addGrid(model.maxIter, [10, 20, 50]) #Number of iterations\n",
    "#            .addGrid(idf.numFeatures, [10, 100, 1000]) # Number of features\n",
    "             .build())\n",
    "# Create 5-fold CrossValidator\n",
    "cv = CrossValidator(estimator=lr, \\\n",
    "                    estimatorParamMaps=paramGrid, \\\n",
    "                    evaluator=evaluator, \\\n",
    "                    numFolds=5)\n",
    "cvModel = cv.fit(trainingData)"
   ]
  },
  {
   "cell_type": "markdown",
   "metadata": {},
   "source": [
    "### 3.3. Process"
   ]
  },
  {
   "cell_type": "markdown",
   "metadata": {},
   "source": [
    "In this example, we will get UK's population and unemployment rate thoughtout the years. Let's start by selecting the relevant columns."
   ]
  },
  {
   "cell_type": "code",
   "execution_count": 53,
   "metadata": {},
   "outputs": [
    {
     "name": "stdout",
     "output_type": "stream",
     "text": [
      "+------------------------------+------------------------+------------------------------+-----+----------+\n",
      "|                        inputs|                 outputs|                   probability|label|prediction|\n",
      "+------------------------------+------------------------+------------------------------+-----+----------+\n",
      "|hoàng lê nhất_thống chí diễ...|          lich-su-dia-ly|[0.4643103572852561,0.09053...|  0.0|       0.0|\n",
      "|1000 gương_mặt thượng_đế ng...|      my-thuat-kien-truc|[0.15277156658172505,0.0922...|  8.0|       0.0|\n",
      "|nhà_tù côn_đảo 1862 1975 nh...|          lich-su-dia-ly|[0.5679016755962756,0.03807...|  0.0|       0.0|\n",
      "|dân_ca làn_điệu dân_ca phổ_...|               am-nhac-1|[0.21366076468261685,0.0953...| 11.0|       0.0|\n",
      "|mandala thiên_nhiên tô_màu ...|      my-thuat-kien-truc|[0.147508900349656,0.113460...|  8.0|       0.0|\n",
      "|tìm_hiểu kiến_trúc xây_dựng...|      my-thuat-kien-truc|[0.1489358689412086,0.11637...|  8.0|       0.0|\n",
      "|vương_quốc đàng ngoài tái_b...|          lich-su-dia-ly|[0.49722480367858013,0.0403...|  0.0|       0.0|\n",
      "|mỹ_thuật căn_bản nâng cao v...|      my-thuat-kien-truc|[0.1378605335839985,0.10880...|  8.0|       0.0|\n",
      "|kỹ_thuật trồng một_số cây t...|         nong-lam-nghiep|[0.14308601920848357,0.1262...|  7.0|       0.0|\n",
      "|tủ_sách kỹ_năng hoạt_động t...|khoa-hoc-tu-nhien-xa-hoi|[0.14103364129058957,0.1096...|  3.0|       0.0|\n",
      "|ca_tụng thân_xác ca_tụng th...|khoa-hoc-tu-nhien-xa-hoi|[0.15188152141425185,0.1227...|  3.0|       0.0|\n",
      "|miến điện đất_nước hình ngọ...|               du-lich-1|[0.3206342367375058,0.06989...| 13.0|       0.0|\n",
      "|combo tài_liệu mật 3 1 tài_...|          lich-su-dia-ly|[0.754116640315349,0.023695...|  0.0|       0.0|\n",
      "|100 ván cờ xuất_sắc vua cờ ...|                the-thao|[0.27519363345378905,0.0883...|  9.0|       0.0|\n",
      "|tuyển_tập 100 bài hát sinh_...|khoa-hoc-tu-nhien-xa-hoi|[0.20447439472771084,0.1362...|  3.0|       0.0|\n",
      "|di_sản văn_hóa phương đây ý...|          lich-su-dia-ly|[0.17008040727186782,0.1075...|  0.0|       0.0|\n",
      "|chân_dung nữ anh_hùng thời_...|          lich-su-dia-ly|[0.469901629114331,0.055515...|  0.0|       0.0|\n",
      "|230 loài gỗ thường gặp sản_...|         nong-lam-nghiep|[0.13225674693040415,0.1115...|  7.0|       0.0|\n",
      "|đổi_mới nâng cao phương_hướ...|             phap-luat-1|[0.14861075833824328,0.1090...|  4.0|       0.0|\n",
      "|kỹ_thuật móc len sợi căn_bả...|           sach-hoc-nghe|[0.13029861721429636,0.0928...| 15.0|       0.0|\n",
      "+------------------------------+------------------------+------------------------------+-----+----------+\n",
      "only showing top 20 rows\n",
      "\n"
     ]
    }
   ],
   "source": [
    "predictions = cvModel.transform(testData)\n",
    "predictions.filter(predictions['prediction'] == 0) \\\n",
    "    .select(\"inputs\",\"outputs\",\"probability\",\"label\",\"prediction\") \\\n",
    "    .show(n = 20, truncate = 30)"
   ]
  },
  {
   "cell_type": "code",
   "execution_count": 59,
   "metadata": {},
   "outputs": [
    {
     "name": "stderr",
     "output_type": "stream",
     "text": [
      "[Stage 627:======================================================>(74 + 1) / 75]\r"
     ]
    },
    {
     "name": "stdout",
     "output_type": "stream",
     "text": [
      "+------------------------------+------------------------+------------------------------+-----+----------+\n",
      "|                        inputs|                 outputs|                   probability|label|prediction|\n",
      "+------------------------------+------------------------+------------------------------+-----+----------+\n",
      "|hoàng lê nhất_thống chí diễ...|          lich-su-dia-ly|[0.4643103572852561,0.09053...|  0.0|       0.0|\n",
      "|1000 gương_mặt thượng_đế ng...|      my-thuat-kien-truc|[0.15277156658172505,0.0922...|  8.0|       0.0|\n",
      "|nhà_tù côn_đảo 1862 1975 nh...|          lich-su-dia-ly|[0.5679016755962756,0.03807...|  0.0|       0.0|\n",
      "|dân_ca làn_điệu dân_ca phổ_...|               am-nhac-1|[0.21366076468261685,0.0953...| 11.0|       0.0|\n",
      "|mandala thiên_nhiên tô_màu ...|      my-thuat-kien-truc|[0.147508900349656,0.113460...|  8.0|       0.0|\n",
      "|tìm_hiểu kiến_trúc xây_dựng...|      my-thuat-kien-truc|[0.1489358689412086,0.11637...|  8.0|       0.0|\n",
      "|vương_quốc đàng ngoài tái_b...|          lich-su-dia-ly|[0.49722480367858013,0.0403...|  0.0|       0.0|\n",
      "|mỹ_thuật căn_bản nâng cao v...|      my-thuat-kien-truc|[0.1378605335839985,0.10880...|  8.0|       0.0|\n",
      "|kỹ_thuật trồng một_số cây t...|         nong-lam-nghiep|[0.14308601920848357,0.1262...|  7.0|       0.0|\n",
      "|tủ_sách kỹ_năng hoạt_động t...|khoa-hoc-tu-nhien-xa-hoi|[0.14103364129058957,0.1096...|  3.0|       0.0|\n",
      "|ca_tụng thân_xác ca_tụng th...|khoa-hoc-tu-nhien-xa-hoi|[0.15188152141425185,0.1227...|  3.0|       0.0|\n",
      "|miến điện đất_nước hình ngọ...|               du-lich-1|[0.3206342367375058,0.06989...| 13.0|       0.0|\n",
      "|combo tài_liệu mật 3 1 tài_...|          lich-su-dia-ly|[0.754116640315349,0.023695...|  0.0|       0.0|\n",
      "|100 ván cờ xuất_sắc vua cờ ...|                the-thao|[0.27519363345378905,0.0883...|  9.0|       0.0|\n",
      "|tuyển_tập 100 bài hát sinh_...|khoa-hoc-tu-nhien-xa-hoi|[0.20447439472771084,0.1362...|  3.0|       0.0|\n",
      "|di_sản văn_hóa phương đây ý...|          lich-su-dia-ly|[0.17008040727186782,0.1075...|  0.0|       0.0|\n",
      "|chân_dung nữ anh_hùng thời_...|          lich-su-dia-ly|[0.469901629114331,0.055515...|  0.0|       0.0|\n",
      "|230 loài gỗ thường gặp sản_...|         nong-lam-nghiep|[0.13225674693040415,0.1115...|  7.0|       0.0|\n",
      "|đổi_mới nâng cao phương_hướ...|             phap-luat-1|[0.14861075833824328,0.1090...|  4.0|       0.0|\n",
      "|kỹ_thuật móc len sợi căn_bả...|           sach-hoc-nghe|[0.13029861721429636,0.0928...| 15.0|       0.0|\n",
      "|hỏi đáp quân_đoàn chủ_lực q...|          lich-su-dia-ly|[0.3532207744686781,0.08806...|  0.0|       0.0|\n",
      "|báo_chí mạng xã_hội mạng xã...|       nghiep-vu-bao-chi|[0.14129242569779146,0.1016...| 14.0|       0.0|\n",
      "|học chơi cờ_tướng cờ_tướng ...|                the-thao|[0.1812383973952663,0.09290...|  9.0|       0.0|\n",
      "|sự_kiện 1945 2010 tháng 9 s...|          lich-su-dia-ly|[0.36248202040779276,0.0798...|  0.0|       0.0|\n",
      "|nguồn_gốc tổ nghề dù xuất_t...|           sach-hoc-nghe|[0.14419652161467125,0.1137...| 15.0|       0.0|\n",
      "|thiếu lâm_chính_tông binh_k...|                the-thao|[0.14490397579001654,0.1146...|  9.0|       0.0|\n",
      "|sài_gòn xưa màu hoài_niệm s...|      van-hoa-nghe-thuat|[0.2527448385340134,0.10226...| 12.0|       0.0|\n",
      "|học_sinh âm_nhạc nhạc_cụ dâ...|               am-nhac-1|[0.15625733310390028,0.1073...| 11.0|       0.0|\n",
      "|cần phong_tục cưới_hỏi lễ_c...|khoa-hoc-tu-nhien-xa-hoi|[0.2200771075688201,0.10421...|  3.0|       0.0|\n",
      "|định_mệnh chiến_tranh mỹ tr...|     chinh-tri-triet-hoc|[0.524420012321656,0.030791...|  5.0|       0.0|\n",
      "|cẩm nang võ học lam sơn xuấ...|                the-thao|[0.28222265385333245,0.0861...|  9.0|       0.0|\n",
      "|tuyển_tập tình_ca love song...|               am-nhac-1|[0.1306586455133714,0.10497...| 11.0|       0.0|\n",
      "|nối hình thú_vị số 1 10 nối...|      my-thuat-kien-truc|[0.14525628345731612,0.1137...|  8.0|       0.0|\n",
      "|vật_lý vui 2 vật_lý vui 2 t...|         khoa-hoc-co-ban|[0.14508466100283993,0.1142...| 10.0|       0.0|\n",
      "|rong_chơi miền chữ_nghĩa 3 ...|khoa-hoc-tu-nhien-xa-hoi|[0.20720054895354037,0.0870...|  3.0|       0.0|\n",
      "|50 câu hỏi mỹ_học đương_đại...|      my-thuat-kien-truc|[0.18940579950155526,0.0560...|  8.0|       0.0|\n",
      "|sự_kiện 1945 2010 tháng 11 ...|          lich-su-dia-ly|[0.3617909590993885,0.07972...|  0.0|       0.0|\n",
      "|phương hoàng_hậu cuối_cùng ...|          lich-su-dia-ly|[0.668897199537958,0.053458...|  0.0|       0.0|\n",
      "|ngàn áo mũ ngàn áo mũ ngàn ...|          lich-su-dia-ly|[0.7484167419960058,0.02975...|  0.0|       0.0|\n",
      "|văn_hoá học_hỏi ngoài hàng ...|          lich-su-dia-ly|[0.16432754785108372,0.1023...|  0.0|       0.0|\n",
      "|vẽ tranh sơn_thủy mỹ_thuật ...|      my-thuat-kien-truc|[0.13535412157578824,0.1039...|  8.0|       0.0|\n",
      "|tìm_hiểu nguồn năng_lượng t...|khoa-hoc-tu-nhien-xa-hoi|[0.19064519352217482,0.0591...|  3.0|       0.0|\n",
      "|phân_tích hội họa cơ_bản ph...|      my-thuat-kien-truc|[0.13282723057529394,0.1210...|  8.0|       0.0|\n",
      "|cắt ghép người_máy đội quân...|      my-thuat-kien-truc|[0.15980736509616053,0.1037...|  8.0|       0.0|\n",
      "|hoa hoa tuyển_tập gồm bài b...|           sach-ton-giao|[0.1637847877102468,0.11966...|  2.0|       0.0|\n",
      "|non sắc màu nam_bộ đây 3 cu...|               du-lich-1|[0.252561799216246,0.093161...| 13.0|       0.0|\n",
      "|chảy dưới chân cầu mụ kề ch...|          lich-su-dia-ly|[0.33802294707773817,0.0357...|  0.0|       0.0|\n",
      "|cây_ăn_trái trọn 5 hiện_nay...|         nong-lam-nghiep|[0.12873443076496718,0.0986...|  7.0|       0.0|\n",
      "|tự học cắt may kỹ_thuật cun...|      van-hoa-nghe-thuat|[0.14502427988567185,0.0960...| 12.0|       0.0|\n",
      "|di_sản thắng_cảnh hoa kỳ bì...|      van-hoa-nghe-thuat|[0.6281296505084267,0.00974...| 12.0|       0.0|\n",
      "|500 câu hỏi đáp tiểu_đường ...|                   y-hoc|[0.14763621154324957,0.1273...|  1.0|       0.0|\n",
      "|bí_mật bí_mật quyển 1 tái_b...|     chinh-tri-triet-hoc|[0.1507417000461412,0.11541...|  5.0|       0.0|\n",
      "|ngôn_ngữ_học tri nhận lí_th...|khoa-hoc-tu-nhien-xa-hoi|[0.14955491422834008,0.0797...|  3.0|       0.0|\n",
      "|nghệ_thuật ngập_tràn thông_...|      my-thuat-kien-truc|[0.13281586376888946,0.0892...|  8.0|       0.0|\n",
      "|phong_tục dân_gian nam_bộ p...|           sach-ton-giao|[0.2936286061156383,0.06046...|  2.0|       0.0|\n",
      "|krishnamurti giáo_dục ý_ngh...|     chinh-tri-triet-hoc|[0.1343374412423972,0.10332...|  5.0|       0.0|\n",
      "|sổ tay hóa_học sơ_cấp 1 hóa...|         khoa-hoc-co-ban|[0.12875341607827478,0.1052...| 10.0|       0.0|\n",
      "|ngoại_giao bắc hiệp_định ge...|     chinh-tri-triet-hoc|[0.8577279300758476,0.00568...|  5.0|       0.0|\n",
      "|giáo_dục theo_gương don bos...|           sach-ton-giao|[0.14869887096797668,0.1136...|  2.0|       0.0|\n",
      "|dân_tộc chúa chọn 70 cn do ...|          lich-su-dia-ly|[0.20774744873103773,0.0969...|  0.0|       0.0|\n",
      "|vấn_đề cơ_bản hình họa phươ...|      my-thuat-kien-truc|[0.14213820004979194,0.1144...|  8.0|       0.0|\n",
      "|góc sử chế_độ công_điền côn...|          lich-su-dia-ly|[0.15818267246869128,0.1152...|  0.0|       0.0|\n",
      "|pháp_luật trung_quốc nói đề...|          lich-su-dia-ly|[0.1744308825374847,0.07211...|  0.0|       0.0|\n",
      "|tìm_hiểu pháp_luật phí lệ_p...|             phap-luat-1|[0.14963673973223468,0.1086...|  4.0|       0.0|\n",
      "|kỹ_thuật trồng kinh_doanh p...|         nong-lam-nghiep|[0.15431467598448892,0.0976...|  7.0|       0.0|\n",
      "|đảo_quốc_sư_tử quốc_gia nhỏ...|               du-lich-1|[0.1452017647775382,0.12270...| 13.0|       0.0|\n",
      "|vật_lý hiện_đại vấn_đề thời...|         khoa-hoc-co-ban|[0.14255866831086747,0.1096...| 10.0|       0.0|\n",
      "|lược_sử lập_hiến quốc_gia đ...|          lich-su-dia-ly|[0.25770319974394174,0.0805...|  0.0|       0.0|\n",
      "|kỳ thú dưới đại_dương kỳ th...|       khoa-hoc-ky-thuat|[0.2075500705961382,0.10895...|  6.0|       0.0|\n",
      "|mẫu chữ gốc la_tinh thế_kỉ ...|khoa-hoc-tu-nhien-xa-hoi|[0.16731553184914383,0.0873...|  3.0|       0.0|\n",
      "|nguồn_gốc giữa thế_kỷ xx ng...|          lich-su-dia-ly|[0.7948523056930127,0.02318...|  0.0|       0.0|\n",
      "|kỷ_niệm ngàn thăng_long hà_...|          lich-su-dia-ly|[0.4821418089301818,0.06182...|  0.0|       0.0|\n",
      "|kỷ_niệm ngàn thăng_long hà_...|          lich-su-dia-ly|[0.5625031025953707,0.06767...|  0.0|       0.0|\n",
      "|cuộc kháng_chiến chống mỹ c...|          lich-su-dia-ly|[0.2776392823229031,0.12204...|  0.0|       0.0|\n",
      "|trung_đông thế_kỷ xx có_lẽ ...|          lich-su-dia-ly|[0.28184854134163556,0.0869...|  0.0|       0.0|\n",
      "|6 quan_trọng do vi_khuẩn lợ...|         nong-lam-nghiep|[0.1467137596253302,0.12065...|  7.0|       0.0|\n",
      "|mưu_lược gia tinh tuyển quâ...|          lich-su-dia-ly|[0.14569385630945975,0.1226...|  0.0|       0.0|\n",
      "|9 bản tuyên_ngôn độc_lập 9 ...|     chinh-tri-triet-hoc|[0.1728455014663223,0.10371...|  5.0|       0.0|\n",
      "|góc sử luận phái trung hoa ...|          lich-su-dia-ly|[0.5358810012274092,0.04725...|  0.0|       0.0|\n",
      "|dấu_tích nước_ngoài giới_th...|          lich-su-dia-ly|[0.20362046854729846,0.1065...|  0.0|       0.0|\n",
      "|kỷ_niệm ngàn thăng_long hà_...|          lich-su-dia-ly|[0.5490125216414146,0.05698...|  0.0|       0.0|\n",
      "|sử_dụng bảo_trì lốp bánh xí...|       khoa-hoc-ky-thuat|[0.14341359405648546,0.1010...|  6.0|       0.0|\n",
      "|nghệ_thuật âm_nhạc ca_trù p...|      van-hoa-nghe-thuat|[0.13409520475074352,0.1094...| 12.0|       0.0|\n",
      "|vua duy_tân cuộc vận_động k...|          lich-su-dia-ly|[0.6739712722035721,0.04325...|  0.0|       0.0|\n",
      "|tủ hỏi đáp đường hồ chí_min...|          lich-su-dia-ly|[0.34819941788120284,0.0788...|  0.0|       0.0|\n",
      "|vụ bê_bối càng nổi_tiếng rơ...|          lich-su-dia-ly|[0.14102968410060215,0.1275...|  0.0|       0.0|\n",
      "|cẩm_nang cờ_tướng sau trận ...|                the-thao|[0.1345667904617177,0.11657...|  9.0|       0.0|\n",
      "|quan_hệ hoa kỳ hướng phía q...|     chinh-tri-triet-hoc|[0.23656434841074428,0.0944...|  5.0|       0.0|\n",
      "|văn sành giáo_sư văn nếu ng...|khoa-hoc-tu-nhien-xa-hoi|[0.14336115556500134,0.1102...|  3.0|       0.0|\n",
      "|phong_tục đời_sống nhật thă...|khoa-hoc-tu-nhien-xa-hoi|[0.1856574771776404,0.10283...|  3.0|       0.0|\n",
      "|ngàn sử sử nên xanh rêu 1 q...|          lich-su-dia-ly|[0.37512419892997967,0.0734...|  0.0|       0.0|\n",
      "|giọng hát em chân_dung nhạc...|               am-nhac-1|[0.24985370625855854,0.0514...| 11.0|       0.0|\n",
      "|văn khấn chữ nôm tái_bản 20...|khoa-hoc-tu-nhien-xa-hoi|[0.15481065773888383,0.1089...|  3.0|       0.0|\n",
      "|nghệ_thuật âm_nhạc tìm_hiểu...|          lich-su-dia-ly|[0.14248468635003878,0.0964...|  0.0|       0.0|\n",
      "|giáng_sinh diệu kỳ khổ nhỏ ...|      my-thuat-kien-truc|[0.14043883114510644,0.1088...|  8.0|       0.0|\n",
      "|lối luân_lý mục_lục luân_lý...|           sach-ton-giao|[0.1487127287169635,0.11438...|  2.0|       0.0|\n",
      "|quốc_văn chu dịch diễn_giải...|     chinh-tri-triet-hoc|[0.16556449070033347,0.1147...|  5.0|       0.0|\n",
      "|danh_tướng danh_tướng biên_...|          lich-su-dia-ly|[0.25241105547548925,0.1059...|  0.0|       0.0|\n",
      "|võ_lâm cận_chiến tổng_hợp t...|                the-thao|[0.15328934356678958,0.0794...|  9.0|       0.0|\n",
      "|tuyển_tập tình_khúc vượt th...|               am-nhac-1|[0.15208190400533797,0.1142...| 11.0|       0.0|\n",
      "|đặc khảo trương công_định t...|          lich-su-dia-ly|[0.17022592403991577,0.1101...|  0.0|       0.0|\n",
      "|chim yến đầu_tư kỹ_thuật xâ...|         nong-lam-nghiep|[0.13829164247360756,0.0954...|  7.0|       0.0|\n",
      "|trận không_chiến bầu_trời 1...|          lich-su-dia-ly|[0.9754153552456623,0.00858...|  0.0|       0.0|\n",
      "|hỏi đáp lễ_hội truyền_thống...|          lich-su-dia-ly|[0.27322251181142587,0.0888...|  0.0|       0.0|\n",
      "|vị vua sử dịp tìm_hiểu vị v...|          lich-su-dia-ly|[0.5031802868333565,0.06592...|  0.0|       0.0|\n",
      "|hỏi đáp cuộc khởi_nghĩa tây...|          lich-su-dia-ly|[0.7348310567664269,0.03566...|  0.0|       0.0|\n",
      "|cuộc vận_động khởi_nghĩa tr...|          lich-su-dia-ly|[0.45973880033161285,0.0697...|  0.0|       0.0|\n",
      "|buôn_ma_thuột sài_gòn buôn_...|          lich-su-dia-ly|[0.19019226940119505,0.1086...|  0.0|       0.0|\n",
      "|82 đảng_cộng_sản chặng đườn...|          lich-su-dia-ly|[0.9425092340212209,0.00429...|  0.0|       0.0|\n",
      "|978 kiểu đan móc thời_trang...|      van-hoa-nghe-thuat|[0.1486754070863466,0.11306...| 12.0|       0.0|\n",
      "|chuyên_ngành cơ_điện_tử nội...|       khoa-hoc-ky-thuat|[0.14399002481800793,0.1110...|  6.0|       0.0|\n",
      "|sách_lịch_sử nhân_loại jare...|          lich-su-dia-ly|[0.391028941460659,0.073774...|  0.0|       0.0|\n",
      "|700 thuận_hoá phú xuân huế ...|          lich-su-dia-ly|[0.2615997669718693,0.09251...|  0.0|       0.0|\n",
      "|kỷ_niệm ngàn thăng_long hà_...|          lich-su-dia-ly|[0.36027917228993167,0.0802...|  0.0|       0.0|\n",
      "|nhà đẹp vận lành phong_thủy...|      my-thuat-kien-truc|[0.14442127195848986,0.1110...|  8.0|       0.0|\n",
      "|thiết_kế vac vùng thiết_kế ...|         nong-lam-nghiep|[0.14722329572120957,0.1147...|  7.0|       0.0|\n",
      "|krishnamurti cuộc thay_đổi ...|     chinh-tri-triet-hoc|[0.1382765610719345,0.10502...|  5.0|       0.0|\n",
      "|thế_kỷ âm_nhạc thời đạn bom...|          lich-su-dia-ly|[0.17858258391377493,0.1089...|  0.0|       0.0|\n",
      "|đặc khảo quang_trung nguyễn...|          lich-su-dia-ly|[0.2784269786453954,0.08824...|  0.0|       0.0|\n",
      "|bản_án chế_độ thực_dân pháp...|          lich-su-dia-ly|[0.20743332485094176,0.0893...|  0.0|       0.0|\n",
      "|tu cội phúc tu cội phúc tu ...|           sach-ton-giao|[0.15688092831309966,0.1103...|  2.0|       0.0|\n",
      "|cốt_nhục thiền ấn_bản đầy_đ...|                the-thao|[0.18508118429578907,0.1206...|  9.0|       0.0|\n",
      "|khám_phá hoàng_đế quang_tru...|          lich-su-dia-ly|[0.474210748701237,0.058129...|  0.0|       0.0|\n",
      "|mẫu vẽ chân_dung hình_tượng...|      my-thuat-kien-truc|[0.1371340079467106,0.10029...|  8.0|       0.0|\n",
      "|phương_pháp vẽ ngũ_quan cuộ...|      my-thuat-kien-truc|[0.13662130530136335,0.1111...|  8.0|       0.0|\n",
      "|hồn chữ thư_pháp hồn chữ th...|      my-thuat-kien-truc|[0.17078594363414773,0.1016...|  8.0|       0.0|\n",
      "|sản_xuất cây_trồng hiệu_quả...|         nong-lam-nghiep|[0.13362430707013995,0.1118...|  7.0|       0.0|\n",
      "|ý_tưởng nghệ_thuật thiết_kế...|      my-thuat-kien-truc|[0.13169815084627529,0.0903...|  8.0|       0.0|\n",
      "|phật_học trung_đẳng 2 phật_...|           sach-ton-giao|[0.17170555554884215,0.1047...|  2.0|       0.0|\n",
      "|thủ_thuật chính_trị phương_...|     chinh-tri-triet-hoc|[0.4286987284202536,0.06306...|  5.0|       0.0|\n",
      "|biên_niên_sử bằng hình dòng...|          lich-su-dia-ly|[0.5255312923412248,0.05485...|  0.0|       0.0|\n",
      "|từ_điển phổ_thông từ_điển p...|          lich-su-dia-ly|[0.23633016428835193,0.0968...|  0.0|       0.0|\n",
      "|kỷ_niệm ngàn thăng_long hà_...|          lich-su-dia-ly|[0.2631014007939191,0.09835...|  0.0|       0.0|\n",
      "|chuyện nghề chuyện chuyện n...|       nghiep-vu-bao-chi|[0.18954677396629116,0.1081...| 14.0|       0.0|\n",
      "|đầm lầy đầm lầy xét chiến_t...|          lich-su-dia-ly|[0.18508960808425318,0.0990...|  0.0|       0.0|\n",
      "|đại_thắng mùa xuân 1975 bướ...|          lich-su-dia-ly|[0.4220867727779453,0.07632...|  0.0|       0.0|\n",
      "|du_lịch 26 di_sản di_sản số...|               du-lich-1|[0.5187399952390955,0.03513...| 13.0|       0.0|\n",
      "|triều nguyễn tái_bản 2016 t...|          lich-su-dia-ly|[0.9440743181103041,0.00527...|  0.0|       0.0|\n",
      "|biến_cố kinh_đô huế phong_t...|          lich-su-dia-ly|[0.17060624475641278,0.1041...|  0.0|       0.0|\n",
      "|đô_thị sài_gòn thành_phố hồ...|          lich-su-dia-ly|[0.2041992833737872,0.08936...|  0.0|       0.0|\n",
      "|câu_chuyện do thái thăng_tr...|          lich-su-dia-ly|[0.3164790903748487,0.09276...|  0.0|       0.0|\n",
      "|triều_đại tái_bản 09 2009 d...|          lich-su-dia-ly|[0.6995129585422647,0.03788...|  0.0|       0.0|\n",
      "|vấn_đề trận chiến trở_thành...|          lich-su-dia-ly|[0.16186002685656986,0.1123...|  0.0|       0.0|\n",
      "|xây_dựng xã_hội nhường_nhịn...|     chinh-tri-triet-hoc|[0.1457621194833363,0.11132...|  5.0|       0.0|\n",
      "|bài_giảng toán mirella bởi ...|         khoa-hoc-co-ban|[0.13347068589933778,0.1026...| 10.0|       0.0|\n",
      "|kỷ_niệm ngàn thăng_long hà_...|          lich-su-dia-ly|[0.7272348172080243,0.03321...|  0.0|       0.0|\n",
      "|cẩm_nang vai_trò chức_năng ...|     chinh-tri-triet-hoc|[0.1785586065198662,0.09389...|  5.0|       0.0|\n",
      "|tiềm_năng kỳ_tích sông sài_...|          lich-su-dia-ly|[0.19903940842311982,0.1071...|  0.0|       0.0|\n",
      "|cười thánh_nhân tái_bản 201...|     chinh-tri-triet-hoc|[0.14723029391970577,0.1399...|  5.0|       0.0|\n",
      "|đối_mặt quân_thù đối_mặt qu...|          lich-su-dia-ly|[0.4111984429169449,0.06079...|  0.0|       0.0|\n",
      "|văn_hóa đường đổi_mới thời_...|          lich-su-dia-ly|[0.13270216335040494,0.1032...|  0.0|       0.0|\n",
      "|ý_tưởng nghệ_thuật thiết_kế...|      my-thuat-kien-truc|[0.1279650124634203,0.09005...|  8.0|       0.0|\n",
      "|kỹ_thuật trồng rau gia_vị t...|         nong-lam-nghiep|[0.13160591548755957,0.1113...|  7.0|       0.0|\n",
      "|góc tên góc huế do nhà_nghi...|          lich-su-dia-ly|[0.16791233084225832,0.1091...|  0.0|       0.0|\n",
      "|chân_dung nhân_loại dòng sự...|          lich-su-dia-ly|[0.5258472595004956,0.03871...|  0.0|       0.0|\n",
      "|góc sử gia định tổng_trấn t...|          lich-su-dia-ly|[0.19745710111017017,0.1225...|  0.0|       0.0|\n",
      "|văn_minh ấn độ phương_đông ...|          lich-su-dia-ly|[0.1634783998280209,0.10013...|  0.0|       0.0|\n",
      "|thiền nghệ_thuật đối_diện p...|           sach-ton-giao|[0.14599705160993212,0.1079...|  2.0|       0.0|\n",
      "|hoa đất người_ta hoa đất bô...|          lich-su-dia-ly|[0.37744705810759577,0.0820...|  0.0|       0.0|\n",
      "|bài_học minh trị duy_tân đâ...|          lich-su-dia-ly|[0.23341997690389887,0.0938...|  0.0|       0.0|\n",
      "|kỷ_niệm 1000 thăng_long hà_...|          lich-su-dia-ly|[0.3395329020144595,0.06128...|  0.0|       0.0|\n",
      "|niềm tin sức_mạnh niềm tin ...|          lich-su-dia-ly|[0.5292744846957352,0.03913...|  0.0|       0.0|\n",
      "|bí_quyết vẽ sơn_dầu tái_bản...|      my-thuat-kien-truc|[0.1390039315710447,0.10894...|  8.0|       0.0|\n",
      "|tự truyện kiều 20 bản tổ bà...|      van-hoa-nghe-thuat|[0.1624814461650658,0.09878...| 12.0|       0.0|\n",
      "|bút_nghiên giấy mực trước_h...|          lich-su-dia-ly|[0.26783454875101725,0.0829...|  0.0|       0.0|\n",
      "|góc sử trần_hưng_đạo kẻ kia...|          lich-su-dia-ly|[0.16345397001606132,0.1115...|  0.0|       0.0|\n",
      "|chuyên_ngành kỹ_thuật ôtô x...|       khoa-hoc-ky-thuat|[0.13436050168568503,0.1003...|  6.0|       0.0|\n",
      "|kỷ_niệm ngàn thăng_long hà_...|          lich-su-dia-ly|[0.5160350983602431,0.05635...|  0.0|       0.0|\n",
      "|dân_ca soạn ghi giúp chơi g...|               am-nhac-1|[0.16723766951817154,0.1125...| 11.0|       0.0|\n",
      "|tìm_hiểu hiệp_hội quốc_gia ...|          lich-su-dia-ly|[0.19633858712607336,0.1005...|  0.0|       0.0|\n",
      "|who are you school 2015 18 ...|      van-hoa-nghe-thuat|[0.1498577427909934,0.11526...| 12.0|       0.0|\n",
      "|trí_thức phong_trào giải_ph...|          lich-su-dia-ly|[0.29304827581638115,0.0795...|  0.0|       0.0|\n",
      "|cuộc nổi dậy nhà_tây_sơn bì...|          lich-su-dia-ly|[0.6701504817398022,0.02376...|  0.0|       0.0|\n",
      "|đảo bạch_long_vĩ kiên_cường...|          lich-su-dia-ly|[0.16029730546000598,0.1221...|  0.0|       0.0|\n",
      "|kỷ_niệm ngàn thăng_long hà_...|          lich-su-dia-ly|[0.6028917975098251,0.05766...|  0.0|       0.0|\n",
      "|tìm_hiểu thực_vật tìm_hiểu ...|khoa-hoc-tu-nhien-xa-hoi|[0.14250372332499103,0.1096...|  3.0|       0.0|\n",
      "|văn_hóa tộc_người thái nhằm...|          lich-su-dia-ly|[0.1580349269129795,0.10275...|  0.0|       0.0|\n",
      "|giáo_dục nghề_nghiệp tài_li...|          lich-su-dia-ly|[0.3201988023756412,0.08965...|  0.0|       0.0|\n",
      "|hành_trình trí_thức karl ma...|     chinh-tri-triet-hoc|[0.16732701056453128,0.0938...|  5.0|       0.0|\n",
      "|phát_triển doanh_nghiệp nhỏ...|     chinh-tri-triet-hoc|[0.1521280184318643,0.10082...|  5.0|       0.0|\n",
      "|cuộc kháng_chiến chống xâm_...|          lich-su-dia-ly|[0.9994828016137547,2.92730...|  0.0|       0.0|\n",
      "|châu âu gì lạ em ghi_chép m...|               du-lich-1|[0.18724717771260113,0.1402...| 13.0|       0.0|\n",
      "|văn_hóa tộc_người khơ mú nh...|          lich-su-dia-ly|[0.1580349269129795,0.10275...|  0.0|       0.0|\n",
      "|kể chuyện tuỳ đường tủ_sách...|          lich-su-dia-ly|[0.3513369035768002,0.06987...|  0.0|       0.0|\n",
      "|ngành_nghề dân_tộc hàng ngà...|           sach-hoc-nghe|[0.269853780655468,0.117341...| 15.0|       0.0|\n",
      "|krishnamurti mạng_lưới tư_t...|     chinh-tri-triet-hoc|[0.12637283696929835,0.1041...|  5.0|       0.0|\n",
      "|khí_hậu biến_đổi tủ_sách ki...|         khoa-hoc-co-ban|[0.25252069821201034,0.1044...| 10.0|       0.0|\n",
      "|nền văn_hóa khảo_cổ tiêu_bi...|         khoa-hoc-co-ban|[0.18507548271033358,0.1034...| 10.0|       0.0|\n",
      "|đây chuyện i lạ mổ sinh bé ...|khoa-hoc-tu-nhien-xa-hoi|[0.15667576582004417,0.1149...|  3.0|       0.0|\n",
      "|bùi xuân phái dưới ánh đèn_...|      my-thuat-kien-truc|[0.19027947123939343,0.0935...|  8.0|       0.0|\n",
      "|kỹ_thuật cắt may căn_bản th...|      van-hoa-nghe-thuat|[0.13792646289540714,0.0976...| 12.0|       0.0|\n",
      "|quân_vương quân_vương giá_t...|     chinh-tri-triet-hoc|[0.19767465157545952,0.0849...|  5.0|       0.0|\n",
      "|làm_sao nói chưa làm_sao nó...|khoa-hoc-tu-nhien-xa-hoi|[0.16879863953905974,0.1043...|  3.0|       0.0|\n",
      "|tủ hỏi đáp chiến_khu cuộc k...|          lich-su-dia-ly|[0.513423678812747,0.068856...|  0.0|       0.0|\n",
      "|phương_pháp sáng_tác kiến_t...|      my-thuat-kien-truc|[0.1272558659877607,0.08575...|  8.0|       0.0|\n",
      "|trịnh công_sơn bob dylan tr...|      van-hoa-nghe-thuat|[0.20754726272818724,0.0923...| 12.0|       0.0|\n",
      "|kính sợ run_rẩy kính sợ run...|     chinh-tri-triet-hoc|[0.15434652723381978,0.1006...|  5.0|       0.0|\n",
      "|kinh_tế xã_hội dưới vua tri...|          lich-su-dia-ly|[0.7804804255289479,0.02756...|  0.0|       0.0|\n",
      "|góc sử luận phái trung hoa ...|          lich-su-dia-ly|[0.5294591534445882,0.04668...|  0.0|       0.0|\n",
      "|xã_hội thời pháp_thuộc sự_k...|          lich-su-dia-ly|[0.5831353592701877,0.05724...|  0.0|       0.0|\n",
      "|kỷ_niệm ngàn thăng_long hà_...|          lich-su-dia-ly|[0.33636085369170665,0.0845...|  0.0|       0.0|\n",
      "|thân thế sự_nghiệp léopold ...|           sach-ton-giao|[0.14989956709900237,0.1152...|  2.0|       0.0|\n",
      "|kỷ_niệm ngàn thăng_long hà_...|          lich-su-dia-ly|[0.2886250371095557,0.09832...|  0.0|       0.0|\n",
      "|thưởng_ngoạn đồ_sứ kí kiểu ...|      my-thuat-kien-truc|[0.972276218232073,0.001650...|  8.0|       0.0|\n",
      "|chủ_nghĩa hiện_sinh dẫn luậ...|     chinh-tri-triet-hoc|[0.14707698347810536,0.1059...|  5.0|       0.0|\n",
      "|kỹ_thuật nuôi gà_chọi kỹ_th...|         nong-lam-nghiep|[0.13534913057848283,0.1042...|  7.0|       0.0|\n",
      "|du_ký trọn 3 nam_phong tạp_...|               du-lich-1|[0.9966355005889735,3.13314...| 13.0|       0.0|\n",
      "|văn_hóa làng trò_chơi dân_g...|khoa-hoc-tu-nhien-xa-hoi|[0.17727540524294347,0.1074...|  3.0|       0.0|\n",
      "|nghệ_thuật chơi_chữ văn_chư...|khoa-hoc-tu-nhien-xa-hoi|[0.13396540159522943,0.0956...|  3.0|       0.0|\n",
      "|nối hình thú_vị chữ_cái a z...|      my-thuat-kien-truc|[0.14974899481053516,0.1126...|  8.0|       0.0|\n",
      "|ngoại_giao giữa phương_tây ...|     chinh-tri-triet-hoc|[0.776879636769389,0.021594...|  5.0|       0.0|\n",
      "|lê mạt ký suy_tàn triều lê ...|          lich-su-dia-ly|[0.9999970288541425,1.18803...|  0.0|       0.0|\n",
      "|hỏi đáp một_số di_tích văn_...|          lich-su-dia-ly|[0.18798839014911786,0.1103...|  0.0|       0.0|\n",
      "|góc sử hoan châu_ký hoan ch...|          lich-su-dia-ly|[0.2218978656929793,0.09336...|  0.0|       0.0|\n",
      "|body art tô_màu dành người_...|      my-thuat-kien-truc|[0.1464735325742882,0.11249...|  8.0|       0.0|\n",
      "|phương_pháp ohsawa hỏi đáp ...|                   y-hoc|[0.14841960814521968,0.1382...|  1.0|       0.0|\n",
      "|kỷ_niệm ngàn thăng_long hà_...|          lich-su-dia-ly|[0.4290502423892608,0.08753...|  0.0|       0.0|\n",
      "|mưu_lược chính_trị quân_sự ...|     chinh-tri-triet-hoc|[0.15326588322016924,0.1067...|  5.0|       0.0|\n",
      "|tù_nhân địa_lý vươn tới vì_...|          lich-su-dia-ly|[0.32694780290206255,0.0404...|  0.0|       0.0|\n",
      "|cư trần lạc đạo phú đương đ...|           sach-ton-giao|[0.2721846745012702,0.07978...|  2.0|       0.0|\n",
      "|lược_sử việt_ngữ_học lược_s...|khoa-hoc-tu-nhien-xa-hoi|[0.2669782512458263,0.07825...|  3.0|       0.0|\n",
      "|kỷ_niệm ngàn thăng_long hà_...|          lich-su-dia-ly|[0.43028025919415674,0.0795...|  0.0|       0.0|\n",
      "|tìm_hiểu hiệp_hội quốc_gia ...|          lich-su-dia-ly|[0.24033588922223517,0.0892...|  0.0|       0.0|\n",
      "|nho_giáo bìa cứng tái_bản 2...|           sach-ton-giao|[0.25992981809981236,0.0961...|  2.0|       0.0|\n",
      "|triết_học thượng_cổ tây_phư...|     chinh-tri-triet-hoc|[0.15458299247279814,0.1067...|  5.0|       0.0|\n",
      "|sài côn cố_sự văn_học thế_k...|          lich-su-dia-ly|[0.9367483977649327,0.00662...|  0.0|       0.0|\n",
      "|địa_chí hành_chính tỉnh kỳ ...|          lich-su-dia-ly|[0.4768818848568553,0.06700...|  0.0|       0.0|\n",
      "|chuyện kể trăm loài chim ch...|khoa-hoc-tu-nhien-xa-hoi|[0.16167772471279637,0.1024...|  3.0|       0.0|\n",
      "|làng nổi_tiếng làng nổi_tiế...|khoa-hoc-tu-nhien-xa-hoi|[0.21586637404308825,0.1031...|  3.0|       0.0|\n",
      "|tuyển_tập tình_khúc vượt th...|               am-nhac-1|[0.14874105569698537,0.1140...| 11.0|       0.0|\n",
      "|fukuzawa yukichi nguyễn_trư...|khoa-hoc-tu-nhien-xa-hoi|[0.34866266839321813,0.0370...|  3.0|       0.0|\n",
      "|triều_đại tái_bản 10 05 200...|          lich-su-dia-ly|[0.24163505803311133,0.0950...|  0.0|       0.0|\n",
      "|hỏi đáp ngôi đền nổi_tiếng ...|          lich-su-dia-ly|[0.17783049983357108,0.1000...|  0.0|       0.0|\n",
      "|kể chuyện lưỡng tấn bắc tri...|          lich-su-dia-ly|[0.38296295482919157,0.0939...|  0.0|       0.0|\n",
      "|chủ_nghĩa_hậu_hiện_đại chủ_...|     chinh-tri-triet-hoc|[0.14719420413484155,0.1128...|  5.0|       0.0|\n",
      "|sự_kiện 1945 2010 tháng 5 s...|          lich-su-dia-ly|[0.3633134141720099,0.08005...|  0.0|       0.0|\n",
      "|báo_chí sài_gòn 1954 1963 m...|       nghiep-vu-bao-chi|[0.36004385204781714,0.0664...| 14.0|       0.0|\n",
      "|nói hiếu_đạo hòa_thượng tịn...|           sach-ton-giao|[0.1709337168816016,0.09814...|  2.0|       0.0|\n",
      "|vua minh mạng thái_y_viện n...|                   y-hoc|[0.23816132954461391,0.1780...|  1.0|       0.0|\n",
      "|nền mỹ_thuật ngoài phương_t...|      my-thuat-kien-truc|[0.16088069495442378,0.0930...|  8.0|       0.0|\n",
      "|nghề luật_sư nghề luật_sư c...|           sach-hoc-nghe|[0.1800668221847586,0.11812...| 15.0|       0.0|\n",
      "|thời_trang thực_hành mục_lụ...|      van-hoa-nghe-thuat|[0.14850242423386617,0.1156...| 12.0|       0.0|\n",
      "|kỹ_thuật nuôi cá hú nuôi bè...|         nong-lam-nghiep|[0.1397272082264894,0.10053...|  7.0|       0.0|\n",
      "|chim_cút hiểu_biết chăn_nuô...|         nong-lam-nghiep|[0.1398326100720502,0.10755...|  7.0|       0.0|\n",
      "|nghệ_thuật âm_nhạc tìm_hiểu...|      van-hoa-nghe-thuat|[0.15463860203663765,0.1000...| 12.0|       0.0|\n",
      "|kỹ_thuật đồ_chơi vật_dụng b...|           sach-hoc-nghe|[0.14180851606643205,0.0925...| 15.0|       0.0|\n",
      "|tìm_hiểu hiệp_hội quốc_gia ...|          lich-su-dia-ly|[0.24033588922223517,0.0892...|  0.0|       0.0|\n",
      "|chút sự_thật nổi_tiếng 1 mụ...|      van-hoa-nghe-thuat|[0.13687666883707555,0.1289...| 12.0|       0.0|\n",
      "|hoàng sa trường_sa sự_kiện ...|          lich-su-dia-ly|[0.42601661442422634,0.0718...|  0.0|       0.0|\n",
      "|giai_thoại vi giai_thoại vi...|          lich-su-dia-ly|[0.7143521870786635,0.04764...|  0.0|       0.0|\n",
      "|đối_phó tình_huống khẩn_cấp...|khoa-hoc-tu-nhien-xa-hoi|[0.14252969768175716,0.1240...|  3.0|       0.0|\n",
      "|chính_sách giáo_dục tại kỳ ...|          lich-su-dia-ly|[0.32110524444864275,0.0644...|  0.0|       0.0|\n",
      "|bản_sắc nhu_cầu phẩm_giá ch...|     chinh-tri-triet-hoc|[0.15524824921405372,0.0832...|  5.0|       0.0|\n",
      "|44 đời tổng_thống hoa kỳ tá...|     chinh-tri-triet-hoc|[0.47725002992385146,0.0507...|  5.0|       0.0|\n",
      "|gió_bụi đầy trời bìa cứng m...|          lich-su-dia-ly|[0.4359552526207865,0.05800...|  0.0|       0.0|\n",
      "|trung_quốc nói đề_tài thảo_...|          lich-su-dia-ly|[0.17893384350848912,0.0739...|  0.0|       0.0|\n",
      "|kỷ_niệm ngàn thăng_long hà_...|          lich-su-dia-ly|[0.5098510079850658,0.06987...|  0.0|       0.0|\n",
      "|25 tuyệt_phẩm guitar cổ_điể...|               am-nhac-1|[0.1690119639529493,0.09526...| 11.0|       0.0|\n",
      "|bằng tranh lý thường_kiệt b...|          lich-su-dia-ly|[0.16592471668601055,0.1108...|  0.0|       0.0|\n",
      "|đoàn thanh_niên cộng_sản hồ...|          lich-su-dia-ly|[0.1528097839016333,0.10556...|  0.0|       0.0|\n",
      "|cờ_tướng cung_đình cờ_tướng...|                the-thao|[0.16615004760449822,0.1251...|  9.0|       0.0|\n",
      "|vượt cạn dễ_dàng quan_niệm ...|                   y-hoc|[0.15152532031577604,0.1332...|  1.0|       0.0|\n",
      "|ấn độ trỗi dậy cường_quốc đ...|          lich-su-dia-ly|[0.18261794880744286,0.1042...|  0.0|       0.0|\n",
      "|làm_giàu tạo thế cạnh_tranh...|         nong-lam-nghiep|[0.1484075167888706,0.11713...|  7.0|       0.0|\n",
      "|59 ca_khúc dùng sinh_hoạt t...|               am-nhac-1|[0.12554264170939303,0.1078...| 11.0|       0.0|\n",
      "|chiến_dịch bắc_kỳ bìa cứng ...|          lich-su-dia-ly|[0.29605330108093325,0.0820...|  0.0|       0.0|\n",
      "|bikelihood mưu_sinh ảnh bìa...|      van-hoa-nghe-thuat|[0.13101500434223662,0.0826...| 12.0|       0.0|\n",
      "|điện biên phủ trận thắng th...|          lich-su-dia-ly|[0.9913109468255493,8.45027...|  0.0|       0.0|\n",
      "|nhớ chiến_thắng hà nội điện...|          lich-su-dia-ly|[0.2975846752941771,0.08346...|  0.0|       0.0|\n",
      "|trí_tuệ băng giám tăng quốc...|          lich-su-dia-ly|[0.2044089543779746,0.11403...|  0.0|       0.0|\n",
      "|lược_sử phía đông châu_á hẹ...|          lich-su-dia-ly|[0.27247887377605196,0.0916...|  0.0|       0.0|\n",
      "|5 đường_mòn hồ chí_minh 5 đ...|          lich-su-dia-ly|[0.3026143680599699,0.07686...|  0.0|       0.0|\n",
      "|bí_ẩn lớn thế_kỷ xx gì bí_ẩ...|          lich-su-dia-ly|[0.2668629342766738,0.09151...|  0.0|       0.0|\n",
      "|alxandre de rhodes vấn_đề c...|           sach-ton-giao|[0.16752204603663032,0.1058...|  2.0|       0.0|\n",
      "|chiến_tranh thái_bình_dương...|          lich-su-dia-ly|[0.39968527795004993,0.0771...|  0.0|       0.0|\n",
      "|kỷ_niệm ngàn thăng_long hà_...|          lich-su-dia-ly|[0.43658655610331165,0.0732...|  0.0|       0.0|\n",
      "|nối hình thú_vị số 1 20 nối...|      my-thuat-kien-truc|[0.14525628345731612,0.1137...|  8.0|       0.0|\n",
      "|tự luyện côn nhị khúc lưỡng...|                the-thao|[0.13374386031392224,0.1030...|  9.0|       0.0|\n",
      "|nguyễn_thái_học bìa cứng lu...|          lich-su-dia-ly|[0.19588093476142956,0.1055...|  0.0|       0.0|\n",
      "|bộ_luật lao_động bộ_luật la...|             phap-luat-1|[0.1368266389853849,0.10815...|  4.0|       0.0|\n",
      "|cổ nhạc bạc_liêu cuộc_đời s...|               am-nhac-1|[0.17727599489329812,0.0993...| 11.0|       0.0|\n",
      "|vua minh mạng tay bạn_đọc v...|          lich-su-dia-ly|[0.9990240440193777,9.13558...|  0.0|       0.0|\n",
      "|định chế pháp_luật tố_tụng ...|          lich-su-dia-ly|[0.2181948096999612,0.08249...|  0.0|       0.0|\n",
      "|kỷ_niệm ngàn thăng_long hà_...|          lich-su-dia-ly|[0.29659950550290337,0.0870...|  0.0|       0.0|\n",
      "|máy_ảnh hình_ảnh chụp ảnh t...|      van-hoa-nghe-thuat|[0.14290045626159656,0.1095...| 12.0|       0.0|\n",
      "|phôi_thai học tạng hệ_thống...|                   y-hoc|[0.14339814799173017,0.1071...|  1.0|       0.0|\n",
      "|chợ truyền_thống tư_liệu vă...|          lich-su-dia-ly|[0.22049427448400932,0.1053...|  0.0|       0.0|\n",
      "|di_sản văn_hóa phương đây ý...|          lich-su-dia-ly|[0.17008040727186782,0.1075...|  0.0|       0.0|\n",
      "|nữ_tướng liên_tục chống ngo...|          lich-su-dia-ly|[0.14915386990255092,0.1147...|  0.0|       0.0|\n",
      "|tinh_tế kimono tô_màu dành ...|      my-thuat-kien-truc|[0.14788068631337561,0.1135...|  8.0|       0.0|\n",
      "|cuộc tổng_tấn_công tết mậu ...|          lich-su-dia-ly|[0.6112763869993496,0.05030...|  0.0|       0.0|\n",
      "|đông tây đông tây miêu_tả s...|               du-lich-1|[0.19597343566598358,0.1062...| 13.0|       0.0|\n",
      "|cửa_hàng kỳ_ảo tô_màu dành ...|      my-thuat-kien-truc|[0.14052762441426422,0.1067...|  8.0|       0.0|\n",
      "|mỹ_thuật căn_bản nâng cao v...|      my-thuat-kien-truc|[0.2098053026817113,0.09066...|  8.0|       0.0|\n",
      "|mã pháo vân biên long môn t...|                the-thao|[0.14990463087305628,0.1153...|  9.0|       0.0|\n",
      "|tượng kỳ khai trung_đại_cuộ...|                the-thao|[0.1806011899603757,0.11967...|  9.0|       0.0|\n",
      "|cách_mạng bàn_cờ quốc_tế vấ...|     chinh-tri-triet-hoc|[0.35988762201918306,0.0584...|  5.0|       0.0|\n",
      "|thuyết_minh trực_quan khoa_...|khoa-hoc-tu-nhien-xa-hoi|[0.49770284691111716,0.0050...|  3.0|       0.0|\n",
      "|la_cà đất mỹ anh kể hồn_nhi...|               du-lich-1|[0.14442644269453705,0.1034...| 13.0|       0.0|\n",
      "|bách_khoa_thư ngành_nghề hã...|khoa-hoc-tu-nhien-xa-hoi|[0.1566591943777852,0.11930...|  3.0|       0.0|\n",
      "|bằng tranh thăng_long buổi ...|          lich-su-dia-ly|[0.3068645231294873,0.06874...|  0.0|       0.0|\n",
      "|truyện kiều nghệ_thuật sắc ...|      my-thuat-kien-truc|[0.20312514402429538,0.0886...|  8.0|       0.0|\n",
      "|luật phòng cháy chữa cháy l...|             phap-luat-1|[0.14051171278152208,0.1106...|  4.0|       0.0|\n",
      "|135 nghề ít vốn dễ nghề ít ...|           sach-hoc-nghe|[0.1390223991538648,0.10940...| 15.0|       0.0|\n",
      "|giáo_sĩ thừa_sai chính_sách...|          lich-su-dia-ly|[0.22018990361875404,0.0942...|  0.0|       0.0|\n",
      "|biểu_tượng rồng văn_hoá câu...|khoa-hoc-tu-nhien-xa-hoi|[0.16443753359153027,0.0977...|  3.0|       0.0|\n",
      "|địa_lí tỉnh thành_phố 2 tỉn...|          lich-su-dia-ly|[0.17797841918013407,0.1102...|  0.0|       0.0|\n",
      "|kỷ_niệm ngàn thăng_long hà ...|          lich-su-dia-ly|[0.5947278841019352,0.05254...|  0.0|       0.0|\n",
      "|tạp_chí xe thể_thao tháng 6...|       nghiep-vu-bao-chi|[0.14135156005535557,0.1087...| 14.0|       0.0|\n",
      "|thỏa giấc mơ vàng đặt bút 2...|                the-thao|[0.15916551779217955,0.0975...|  9.0|       0.0|\n",
      "|đảo lý sơn xưa nay hành_trì...|          lich-su-dia-ly|[0.18878525685198755,0.1342...|  0.0|       0.0|\n",
      "|sài_gòn hiệp_định pari mùa ...|          lich-su-dia-ly|[0.2213249121455209,0.10727...|  0.0|       0.0|\n",
      "|bè tre du_ký 5500 dặm vượt ...|               du-lich-1|[0.15415058913102792,0.1158...| 13.0|       0.0|\n",
      "|lãng_du văn_hóa 3 lãng_du v...|          lich-su-dia-ly|[0.19845003329994418,0.0822...|  0.0|       0.0|\n",
      "|đáp lời sông_núi bằng hình_...|          lich-su-dia-ly|[0.3394667203521921,0.07802...|  0.0|       0.0|\n",
      "|thăng_long hà_nội từ_điển đ...|          lich-su-dia-ly|[0.2919983902114137,0.09049...|  0.0|       0.0|\n",
      "|kinh_tế 30 chuyển_đổi khái_...|          lich-su-dia-ly|[0.4481778006717279,0.04744...|  0.0|       0.0|\n",
      "|trí_tuệ khổng_tử tái_bản 20...|     chinh-tri-triet-hoc|[0.14964710021778135,0.1221...|  5.0|       0.0|\n",
      "|nghệ_thuật chơi_chữ văn_chư...|khoa-hoc-tu-nhien-xa-hoi|[0.1695782866762545,0.09278...|  3.0|       0.0|\n",
      "|tư_tưởng triết_học trung_qu...|          lich-su-dia-ly|[0.18296422607700885,0.0990...|  0.0|       0.0|\n",
      "|nhờ lượng khổng_lồ phủ bề_m...|khoa-hoc-tu-nhien-xa-hoi|[0.1650288876529634,0.10271...|  3.0|       0.0|\n",
      "|vớ_vẩn nếu nên tiếp nếu tín...|khoa-hoc-tu-nhien-xa-hoi|[0.14519845018732883,0.1116...|  3.0|       0.0|\n",
      "|góc sử trương vĩnh ký 1837 ...|          lich-su-dia-ly|[0.28136606631939237,0.1016...|  0.0|       0.0|\n",
      "|cuộc phản_công ý_nghĩa chiế...|          lich-su-dia-ly|[0.388751933315855,0.065955...|  0.0|       0.0|\n",
      "|người_bệnh ung_thư ý_nghĩa ...|                   y-hoc|[0.14820195741314882,0.1253...|  1.0|       0.0|\n",
      "|1 chọi 10 trận đấu tăng bi_...|     chinh-tri-triet-hoc|[0.18900427912393625,0.0998...|  5.0|       0.0|\n",
      "|danh_thắng miền trung huế t...|               du-lich-1|[0.35125309663178517,0.0795...| 13.0|       0.0|\n",
      "|duy_tân thập_kiệt sau chiến...|          lich-su-dia-ly|[0.41256401453692626,0.0390...|  0.0|       0.0|\n",
      "|kỷ_niệm ngàn thăng_long hà_...|          lich-su-dia-ly|[0.6990130018425671,0.03888...|  0.0|       0.0|\n",
      "|tụng_ca tình_yêu ai khởi_sự...|     chinh-tri-triet-hoc|[0.1397838143448714,0.11652...|  5.0|       0.0|\n",
      "|thời_gian nhan_đề gợi_ý khả...|         khoa-hoc-co-ban|[0.14704716896631007,0.1131...| 10.0|       0.0|\n",
      "|bút ký lính tăng hành_trình...|          lich-su-dia-ly|[0.1894827627716373,0.10930...|  0.0|       0.0|\n",
      "|lược_sử lập_hiến lược_sử lậ...|          lich-su-dia-ly|[0.16242687852308701,0.1070...|  0.0|       0.0|\n",
      "|sự_kiện 1945 2010 tháng 1 s...|          lich-su-dia-ly|[0.35566264307787165,0.0816...|  0.0|       0.0|\n",
      "|kỷ_niệm ngàn thăng_long hà_...|          lich-su-dia-ly|[0.43408390420656656,0.0713...|  0.0|       0.0|\n",
      "|hỏi đáp 7 cuộc kháng_chiến ...|          lich-su-dia-ly|[0.49463121111693215,0.0669...|  0.0|       0.0|\n",
      "|nguồn_gốc văn_minh_xét chun...|khoa-hoc-tu-nhien-xa-hoi|[0.1660947847008072,0.08388...|  3.0|       0.0|\n",
      "|gió_bụi đầy trời bìa mềm ma...|          lich-su-dia-ly|[0.4359552526207865,0.05800...|  0.0|       0.0|\n",
      "|cải_cách hồ quý_ly cải_cách...|          lich-su-dia-ly|[0.23492704586698643,0.0976...|  0.0|       0.0|\n",
      "|đại_chiến i 1914 1918 tủ_sá...|          lich-su-dia-ly|[0.3504857885570618,0.09659...|  0.0|       0.0|\n",
      "|hỏi gì đáp nấy 16 tiếp_tục ...|khoa-hoc-tu-nhien-xa-hoi|[0.1491215901947808,0.11470...|  3.0|       0.0|\n",
      "|lạ vua_chúa lạ vua_chúa tất...|          lich-su-dia-ly|[0.3063262235120671,0.09336...|  0.0|       0.0|\n",
      "|vẽ vật thực màu_sắc vẽ vật ...|      my-thuat-kien-truc|[0.16130959440343798,0.0966...|  8.0|       0.0|\n",
      "|pháp_luật thuế mục_lục 1 tổ...|             phap-luat-1|[0.13812678935778863,0.1077...|  4.0|       0.0|\n",
      "|sự_kiện ngày_lễ kỷ_niệm dân...|khoa-hoc-tu-nhien-xa-hoi|[0.29775903992612224,0.0934...|  3.0|       0.0|\n",
      "|xô_viết chiến_đấu vì gì nói...|          lich-su-dia-ly|[0.15972467615057798,0.1011...|  0.0|       0.0|\n",
      "|ấn_tượng sài_gòn thành_phố ...|          lich-su-dia-ly|[0.21496974311265185,0.0986...|  0.0|       0.0|\n",
      "|thần toán binh_pháp bằng hi...|          lich-su-dia-ly|[0.1604071000266426,0.10713...|  0.0|       0.0|\n",
      "|kỷ_niệm ngàn thăng_long hà_...|          lich-su-dia-ly|[0.43660629033918474,0.0727...|  0.0|       0.0|\n",
      "|nội_dung cơ_bản luật kiểm_t...|             phap-luat-1|[0.13619848637653,0.1047610...|  4.0|       0.0|\n",
      "|sát thát ông_cha đánh giặc ...|          lich-su-dia-ly|[0.9666040596874891,0.00534...|  0.0|       0.0|\n",
      "|võ nguyên giáp cuộc chiến_t...|          lich-su-dia-ly|[0.5613000087350399,0.07775...|  0.0|       0.0|\n",
      "|chết nói chết nói tang_tóc ...|           sach-ton-giao|[0.14415897995566343,0.1327...|  2.0|       0.0|\n",
      "|nghệ_thuật câu cá mục_lục l...|                the-thao|[0.14432779480199973,0.1030...|  9.0|       0.0|\n",
      "|heidegger hà_mã bước cổng t...|     chinh-tri-triet-hoc|[0.17381811723242266,0.1001...|  5.0|       0.0|\n",
      "|tôn đức thắng phong_trào cô...|          lich-su-dia-ly|[0.862934221209551,0.019538...|  0.0|       0.0|\n",
      "|hỏi đáp cuộc khởi_nghĩa_lam...|          lich-su-dia-ly|[0.7346509557364697,0.03597...|  0.0|       0.0|\n",
      "|sắc màu sáng_tạo tô_màu dàn...|      my-thuat-kien-truc|[0.1437995162179147,0.11366...|  8.0|       0.0|\n",
      "|chọn gà_đá xưa_nay thú chơi...|         nong-lam-nghiep|[0.15862634880425514,0.1099...|  7.0|       0.0|\n",
      "|khám lớn sài_gòn khám lớn s...|          lich-su-dia-ly|[0.34485882067960777,0.1394...|  0.0|       0.0|\n",
      "|tài_ba luật_sư tái_bản 06 2...|           sach-hoc-nghe|[0.15666339339450452,0.1059...| 15.0|       0.0|\n",
      "|bản_lĩnh cuộc kháng_chiến c...|          lich-su-dia-ly|[0.2986282572228964,0.09448...|  0.0|       0.0|\n",
      "|kỹ_thuật đồ_chơi vật_dụng b...|           sach-hoc-nghe|[0.14381303347388333,0.0962...| 15.0|       0.0|\n",
      "|nét đẹp đông dương indochin...|      van-hoa-nghe-thuat|[0.19441672488079176,0.1058...| 12.0|       0.0|\n",
      "|tự học thổi sáo 30 ngày tự ...|               am-nhac-1|[0.14994396859435802,0.1146...| 11.0|       0.0|\n",
      "|thiên_tài bắt_đầu như_thế m...|khoa-hoc-tu-nhien-xa-hoi|[0.15000999251356834,0.1271...|  3.0|       0.0|\n",
      "|góc sử dấu_tích cung_điện đ...|          lich-su-dia-ly|[0.5812990069404814,0.05285...|  0.0|       0.0|\n",
      "|đánh_giá diễn_biến mưa axit...|       khoa-hoc-ky-thuat|[0.17128348286220504,0.0879...|  6.0|       0.0|\n",
      "|câu_chuyện lý_thú 1 câu_chu...|          lich-su-dia-ly|[0.17602797760014927,0.0987...|  0.0|       0.0|\n",
      "|kỷ_niệm ngàn thăng_long hà_...|          lich-su-dia-ly|[0.2894338519029438,0.09850...|  0.0|       0.0|\n",
      "|kỹ_năng sinh_hoạt dã_ngoại ...|khoa-hoc-tu-nhien-xa-hoi|[0.13534402858474037,0.1155...|  3.0|       0.0|\n",
      "|mèo duyên_dáng tô_màu dành ...|      my-thuat-kien-truc|[0.14434679706783676,0.1106...|  8.0|       0.0|\n",
      "|chương_trình 100 nghề nông_...|         nong-lam-nghiep|[0.13620925499718686,0.1147...|  7.0|       0.0|\n",
      "|tự quản_chế tiểu_đường bình...|                   y-hoc|[0.18453641857976608,0.1201...|  1.0|       0.0|\n",
      "|bí_ẩn bí_ẩn biên_soạn bộ_ba...|khoa-hoc-tu-nhien-xa-hoi|[0.2327680392878983,0.08504...|  3.0|       0.0|\n",
      "|lưu_manh vì lý_do hiện_nay ...|khoa-hoc-tu-nhien-xa-hoi|[0.2231973059839774,0.08740...|  3.0|       0.0|\n",
      "|phong_trào đô_thị huế 1954 ...|          lich-su-dia-ly|[0.39935601302693186,0.0763...|  0.0|       0.0|\n",
      "|             yemen yemen yemen|          lich-su-dia-ly|[0.14990463087305628,0.1153...|  0.0|       0.0|\n",
      "|hoa kinh thầy trang mặc áo ...|     chinh-tri-triet-hoc|[0.32898014488789634,0.1060...|  5.0|       0.0|\n",
      "|cuộc thập_tự chinh tiếng gọ...|          lich-su-dia-ly|[0.24284488818862573,0.0895...|  0.0|       0.0|\n",
      "|phân_phối điện cáp_điện phâ...|       khoa-hoc-ky-thuat|[0.14569614579419168,0.1120...|  6.0|       0.0|\n",
      "|làng xứ quảng tập_hợp bài v...|          lich-su-dia-ly|[0.22836869373954574,0.1002...|  0.0|       0.0|\n",
      "|đại_cương văn_hóa 3 mục lục...|          lich-su-dia-ly|[0.15071016610126564,0.1135...|  0.0|       0.0|\n",
      "|aung san suu kyi sợ_hãi tự_...|     chinh-tri-triet-hoc|[0.14286385800859025,0.1036...|  5.0|       0.0|\n",
      "|chặng đường gần 80 đảng_cộn...|     chinh-tri-triet-hoc|[0.2379288778415682,0.08554...|  5.0|       0.0|\n",
      "|tạp ghi sử địa 2 tạp ghi sử...|          lich-su-dia-ly|[0.15920550503970268,0.1094...|  0.0|       0.0|\n",
      "|nền văn_minh văn_hoá bao_qu...|          lich-su-dia-ly|[0.45780260059453426,0.0735...|  0.0|       0.0|\n",
      "|thận thường gặp phòng chữa ...|                   y-hoc|[0.14889413831036968,0.1370...|  1.0|       0.0|\n",
      "|một_số chuyên_đề đảng_cộng_...|     chinh-tri-triet-hoc|[0.27736062493925145,0.0814...|  5.0|       0.0|\n",
      "|cuộc khởi_nghĩa duy_tân 191...|          lich-su-dia-ly|[0.5103255710201504,0.06512...|  0.0|       0.0|\n",
      "|dạo bước vườn thiền thiền g...|           sach-ton-giao|[0.20158477023962762,0.0981...|  2.0|       0.0|\n",
      "|đại_chiến ii 1939 1945 tủ_s...|          lich-su-dia-ly|[0.40499334781641705,0.0671...|  0.0|       0.0|\n",
      "|nghệ_thuật âm_nhạc tìm_hiểu...|          lich-su-dia-ly|[0.14317347730645072,0.0862...|  0.0|       0.0|\n",
      "|cực đỉnh tiếng anh cải_thiệ...|khoa-hoc-tu-nhien-xa-hoi|[0.14863213443972043,0.1173...|  3.0|       0.0|\n",
      "|chế_độ thực_dân pháp đất kỳ...|          lich-su-dia-ly|[0.8151910911343142,0.02311...|  0.0|       0.0|\n",
      "|góc sử vua bà_triệu ẩu nét ...|          lich-su-dia-ly|[0.3555096310350077,0.07935...|  0.0|       0.0|\n",
      "|sài_gòn đất bất_cứ vùng_đất...|          lich-su-dia-ly|[0.6549047904860943,0.05257...|  0.0|       0.0|\n",
      "|góp_phần tìm_hiểu sử_thi an...|khoa-hoc-tu-nhien-xa-hoi|[0.20449743528907194,0.1245...|  3.0|       0.0|\n",
      "|bí_ẩn tâm_hồn nét chữ bút_t...|khoa-hoc-tu-nhien-xa-hoi|[0.1985152408452826,0.11585...|  3.0|       0.0|\n",
      "|kỳ_tích văn_minh tái_bản 20...|          lich-su-dia-ly|[0.17346543945292348,0.1082...|  0.0|       0.0|\n",
      "|bùn tuyển_tập bài_giảng thi...|           sach-ton-giao|[0.14952570649083133,0.1135...|  2.0|       0.0|\n",
      "|chính_trị sau 1945 đây bức ...|     chinh-tri-triet-hoc|[0.2567376327383078,0.08712...|  5.0|       0.0|\n",
      "|kỷ_niệm ngàn thăng_long hà_...|          lich-su-dia-ly|[0.3659300825460321,0.07543...|  0.0|       0.0|\n",
      "|kỷ_niệm ngàn thăng_long hà_...|          lich-su-dia-ly|[0.23345060906128856,0.0980...|  0.0|       0.0|\n",
      "|chú bướm khu rừng ốc tô_màu...|      my-thuat-kien-truc|[0.1430481676591776,0.08158...|  8.0|       0.0|\n",
      "|10 đại mưu_lược gia trung_q...|          lich-su-dia-ly|[0.2727541040987841,0.08341...|  0.0|       0.0|\n",
      "|chiêu pháp sát pháp nghệ_th...|                the-thao|[0.1332451579230106,0.12349...|  9.0|       0.0|\n",
      "|di_sản sài_gòn thành_phố hồ...|      van-hoa-nghe-thuat|[0.24586002187835987,0.0835...| 12.0|       0.0|\n",
      "|phát_triển du_lịch cơ_sở kh...|               du-lich-1|[0.1618848660858486,0.10247...| 13.0|       0.0|\n",
      "|anh_hùng anh_hùng rõ quan_đ...|          lich-su-dia-ly|[0.8005898832207776,0.01288...|  0.0|       0.0|\n",
      "|atlas địa_lý kinh_tế chính_...|          lich-su-dia-ly|[0.23779382473433414,0.0894...|  0.0|       0.0|\n",
      "|vẽ phương_pháp tự học vẽ tr...|      my-thuat-kien-truc|[0.19125356657984538,0.0697...|  8.0|       0.0|\n",
      "|kỹ_xảo truyền_hình panoptic...|       khoa-hoc-ky-thuat|[0.14197769114606368,0.1092...|  6.0|       0.0|\n",
      "|kỷ_niệm ngàn thăng_long hà_...|          lich-su-dia-ly|[0.306378933705279,0.092732...|  0.0|       0.0|\n",
      "|kỳ_quan kỳ_lạ mục_lục viên ...|khoa-hoc-tu-nhien-xa-hoi|[0.14812361706617674,0.1201...|  3.0|       0.0|\n",
      "|thú_vui tư_duy tại_sao gây ...|     chinh-tri-triet-hoc|[0.399790763567637,0.068709...|  5.0|       0.0|\n",
      "|du_lịch 3 miền 3 bắc du_lịc...|               du-lich-1|[0.14137547192630326,0.0962...| 13.0|       0.0|\n",
      "|tiểu_vùng văn_hóa xứ đông t...|          lich-su-dia-ly|[0.483171888741253,0.085252...|  0.0|       0.0|\n",
      "|thuế 2014 thuế 2014 biểu_th...|             phap-luat-1|[0.14564321690168983,0.1120...|  4.0|       0.0|\n",
      "|chủ_đề triết_học triết_học ...|     chinh-tri-triet-hoc|[0.1560186175150063,0.10673...|  5.0|       0.0|\n",
      "|nữ chiến_sĩ trường_sơn anh_...|          lich-su-dia-ly|[0.28674324131283796,0.0923...|  0.0|       0.0|\n",
      "|ngàn sử sử dấu_ấn đầu_tiên ...|          lich-su-dia-ly|[0.21129187382334672,0.0946...|  0.0|       0.0|\n",
      "|lây_truyền đường ăn_uống lâ...|                   y-hoc|[0.15364976588352453,0.1330...|  1.0|       0.0|\n",
      "|loài bị đe_doạ ngày trôi độ...|       khoa-hoc-ky-thuat|[0.17569478967394686,0.1175...|  6.0|       0.0|\n",
      "|bài_học bài_học vốn vĩ than...|          lich-su-dia-ly|[0.5402380609741549,6.82658...|  0.0|       0.0|\n",
      "|góp_phần tìm_hiểu một_số ph...|          lich-su-dia-ly|[0.24954218541540224,0.1040...|  0.0|       0.0|\n",
      "|góc sử hoa thông_sứ sử_lược...|          lich-su-dia-ly|[0.16923774586484946,0.1090...|  0.0|       0.0|\n",
      "|văn_hóa khảo_cổ huyện cần_g...|          lich-su-dia-ly|[0.18955406787231407,0.1166...|  0.0|       0.0|\n",
      "|thường gặp tai họng tái_bản...|                   y-hoc|[0.14524273492315382,0.1363...|  1.0|       0.0|\n",
      "|100 ca_khúc chào thế_kỷ mục...|               am-nhac-1|[0.1645262740401442,0.10077...| 11.0|       0.0|\n",
      "|cửa_khổng lần vỏ lỗi_thời k...|     chinh-tri-triet-hoc|[0.13552896885448731,0.1095...|  5.0|       0.0|\n",
      "|kỷ_niệm ngàn thăng_long hà_...|          lich-su-dia-ly|[0.22121608836191942,0.0984...|  0.0|       0.0|\n",
      "|hợp_âm đàn piano tái_bản 03...|               am-nhac-1|[0.1350119117030492,0.10331...| 11.0|       0.0|\n",
      "|triều_đại tái_bản 2019 dung...|          lich-su-dia-ly|[0.17557304559149983,0.1089...|  0.0|       0.0|\n",
      "|điện_ảnh điện_ảnh loại_hình...|      van-hoa-nghe-thuat|[0.17939164633931373,0.0865...| 12.0|       0.0|\n",
      "|tiếp_xúc văn_hóa pháp bước ...|          lich-su-dia-ly|[0.25605626647207697,0.0765...|  0.0|       0.0|\n",
      "|sapiens lược_sử loài_người ...|          lich-su-dia-ly|[0.4343449998725936,0.07837...|  0.0|       0.0|\n",
      "|mỹ_thuật căn_bản nâng cao v...|      my-thuat-kien-truc|[0.13864185856028127,0.1047...|  8.0|       0.0|\n",
      "|di_sản hệ_sinh_thái động th...|          lich-su-dia-ly|[0.15910643088178872,0.1173...|  0.0|       0.0|\n",
      "|quyền pháp_luật thực_thi qu...|             phap-luat-1|[0.15552324225545644,0.1055...|  4.0|       0.0|\n",
      "|astrazeneca câu_chuyện cuộc...|       khoa-hoc-ky-thuat|[0.6210452785485421,0.06155...|  6.0|       0.0|\n",
      "|17 phương_trình thay_đổi má...|khoa-hoc-tu-nhien-xa-hoi|[0.15727137805173744,0.1360...|  3.0|       0.0|\n",
      "|vòng_cung lửa bầu_trời hà_n...|          lich-su-dia-ly|[0.6615182230473576,0.03740...|  0.0|       0.0|\n",
      "|bí_ẩn công tội danh_nhân ch...|          lich-su-dia-ly|[0.6044706888263365,0.05174...|  0.0|       0.0|\n",
      "|bài côn lưỡng tiết nhị khúc...|                the-thao|[0.14990463087305628,0.1153...|  9.0|       0.0|\n",
      "+------------------------------+------------------------+------------------------------+-----+----------+\n",
      "\n"
     ]
    },
    {
     "name": "stderr",
     "output_type": "stream",
     "text": [
      "                                                                                \r"
     ]
    }
   ],
   "source": [
    "predictions = cvModel.transform(testData)\n",
    "predictions.filter(predictions['prediction'] == 0) \\\n",
    "    .select(\"inputs\",\"outputs\",\"probability\",\"label\",\"prediction\") \\\n",
    "    .show(n = 500, truncate = 30)"
   ]
  },
  {
   "cell_type": "code",
   "execution_count": 46,
   "metadata": {},
   "outputs": [
    {
     "name": "stderr",
     "output_type": "stream",
     "text": [
      "                                                                                \r"
     ]
    },
    {
     "data": {
      "text/plain": [
       "0.6420433316892963"
      ]
     },
     "execution_count": 46,
     "metadata": {},
     "output_type": "execute_result"
    }
   ],
   "source": [
    "evaluator.evaluate(predictions)\n"
   ]
  },
  {
   "cell_type": "markdown",
   "metadata": {},
   "source": [
    "We successfully selected the desired columns but two problems were found:\n",
    "+ The first line contains no data but the unit of measurement of each column;\n",
    "+ There are many years with missing population and unemployment data."
   ]
  },
  {
   "cell_type": "markdown",
   "metadata": {},
   "source": [
    "Let's then remove the first line."
   ]
  },
  {
   "cell_type": "code",
   "execution_count": 49,
   "metadata": {},
   "outputs": [
    {
     "name": "stdout",
     "output_type": "stream",
     "text": [
      "Collecting sklearn\n",
      "  Downloading sklearn-0.0.tar.gz (1.1 kB)\n",
      "  Preparing metadata (setup.py) ... \u001b[?25ldone\n",
      "\u001b[?25hCollecting scikit-learn\n",
      "  Downloading scikit_learn-1.0.2-cp39-cp39-manylinux_2_17_x86_64.manylinux2014_x86_64.whl (26.4 MB)\n",
      "     |████████████████████████████████| 26.4 MB 874 kB/s            \n",
      "\u001b[?25hCollecting joblib>=0.11\n",
      "  Downloading joblib-1.1.0-py2.py3-none-any.whl (306 kB)\n",
      "     |████████████████████████████████| 306 kB 2.5 MB/s            \n",
      "\u001b[?25hRequirement already satisfied: numpy>=1.14.6 in /usr/local/lib/python3.9/dist-packages (from scikit-learn->sklearn) (1.22.0)\n",
      "Collecting scipy>=1.1.0\n",
      "  Downloading scipy-1.7.3-cp39-cp39-manylinux_2_17_x86_64.manylinux2014_x86_64.whl (39.8 MB)\n",
      "     |████████████████████████████████| 39.8 MB 676 kB/s            \n",
      "\u001b[?25hCollecting threadpoolctl>=2.0.0\n",
      "  Downloading threadpoolctl-3.0.0-py3-none-any.whl (14 kB)\n",
      "Building wheels for collected packages: sklearn\n",
      "  Building wheel for sklearn (setup.py) ... \u001b[?25ldone\n",
      "\u001b[?25h  Created wheel for sklearn: filename=sklearn-0.0-py2.py3-none-any.whl size=1315 sha256=6496816f2187fd14411ca5d8ef75238edc3e9e2003517d3d01071b41a4d0d19c\n",
      "  Stored in directory: /root/.cache/pip/wheels/e4/7b/98/b6466d71b8d738a0c547008b9eb39bf8676d1ff6ca4b22af1c\n",
      "Successfully built sklearn\n",
      "Installing collected packages: threadpoolctl, scipy, joblib, scikit-learn, sklearn\n",
      "Successfully installed joblib-1.1.0 scikit-learn-1.0.2 scipy-1.7.3 sklearn-0.0 threadpoolctl-3.0.0\n",
      "\u001b[33mWARNING: Running pip as the 'root' user can result in broken permissions and conflicting behaviour with the system package manager. It is recommended to use a virtual environment instead: https://pip.pypa.io/warnings/venv\u001b[0m\n",
      "Note: you may need to restart the kernel to use updated packages.\n"
     ]
    }
   ],
   "source": [
    "pip install sklearn"
   ]
  },
  {
   "cell_type": "markdown",
   "metadata": {},
   "source": [
    "Nice! Now, let's drop the dataframe rows with missing data and refactor its columns names."
   ]
  },
  {
   "cell_type": "code",
   "execution_count": 56,
   "metadata": {},
   "outputs": [
    {
     "name": "stdout",
     "output_type": "stream",
     "text": [
      "Collecting pandas\n",
      "  Downloading pandas-1.3.5-cp39-cp39-manylinux_2_17_x86_64.manylinux2014_x86_64.whl (11.5 MB)\n",
      "     |████████████████████████████████| 11.5 MB 2.0 MB/s            \n",
      "\u001b[?25hRequirement already satisfied: pytz>=2017.3 in /usr/local/lib/python3.9/dist-packages (from pandas) (2021.3)\n",
      "Requirement already satisfied: python-dateutil>=2.7.3 in /usr/local/lib/python3.9/dist-packages (from pandas) (2.8.2)\n",
      "Requirement already satisfied: numpy>=1.17.3 in /usr/local/lib/python3.9/dist-packages (from pandas) (1.22.0)\n",
      "Requirement already satisfied: six>=1.5 in /usr/local/lib/python3.9/dist-packages (from python-dateutil>=2.7.3->pandas) (1.16.0)\n",
      "Installing collected packages: pandas\n",
      "Successfully installed pandas-1.3.5\n",
      "\u001b[33mWARNING: Running pip as the 'root' user can result in broken permissions and conflicting behaviour with the system package manager. It is recommended to use a virtual environment instead: https://pip.pypa.io/warnings/venv\u001b[0m\n"
     ]
    },
    {
     "name": "stderr",
     "output_type": "stream",
     "text": [
      "                                                                                \r"
     ]
    }
   ],
   "source": [
    "!pip install pandas\n",
    "predictions = predictions.toPandas()"
   ]
  },
  {
   "cell_type": "code",
   "execution_count": 57,
   "metadata": {},
   "outputs": [
    {
     "name": "stdout",
     "output_type": "stream",
     "text": [
      "              precision    recall  f1-score   support\n",
      "\n",
      "         0.0       0.84      0.45      0.58       445\n",
      "         1.0       0.88      0.79      0.83       247\n",
      "         2.0       0.85      0.74      0.79       201\n",
      "         3.0       0.63      0.45      0.53       256\n",
      "         4.0       0.92      0.95      0.93       148\n",
      "         5.0       0.36      0.78      0.49        49\n",
      "         6.0       0.66      0.79      0.72        75\n",
      "         7.0       0.72      0.91      0.81        68\n",
      "         8.0       0.33      0.79      0.46        33\n",
      "         9.0       0.39      0.85      0.54        39\n",
      "        10.0       0.28      1.00      0.44        15\n",
      "        11.0       0.47      0.95      0.63        20\n",
      "        12.0       0.02      0.33      0.04         3\n",
      "        13.0       0.21      1.00      0.34         5\n",
      "        14.0       0.17      1.00      0.29         2\n",
      "        15.0       0.00      0.00      0.00         0\n",
      "\n",
      "    accuracy                           0.66      1606\n",
      "   macro avg       0.48      0.74      0.53      1606\n",
      "weighted avg       0.76      0.66      0.68      1606\n",
      "\n"
     ]
    },
    {
     "name": "stderr",
     "output_type": "stream",
     "text": [
      "/usr/local/lib/python3.9/dist-packages/sklearn/metrics/_classification.py:1318: UndefinedMetricWarning: Recall and F-score are ill-defined and being set to 0.0 in labels with no true samples. Use `zero_division` parameter to control this behavior.\n",
      "  _warn_prf(average, modifier, msg_start, len(result))\n",
      "/usr/local/lib/python3.9/dist-packages/sklearn/metrics/_classification.py:1318: UndefinedMetricWarning: Recall and F-score are ill-defined and being set to 0.0 in labels with no true samples. Use `zero_division` parameter to control this behavior.\n",
      "  _warn_prf(average, modifier, msg_start, len(result))\n",
      "/usr/local/lib/python3.9/dist-packages/sklearn/metrics/_classification.py:1318: UndefinedMetricWarning: Recall and F-score are ill-defined and being set to 0.0 in labels with no true samples. Use `zero_division` parameter to control this behavior.\n",
      "  _warn_prf(average, modifier, msg_start, len(result))\n"
     ]
    }
   ],
   "source": [
    "\n",
    "# We are going to use sklearn to evalute the results on test dataset\n",
    "from sklearn.metrics import classification_report\n",
    "print (classification_report(predictions['prediction'], predictions['label']))"
   ]
  },
  {
   "cell_type": "markdown",
   "metadata": {},
   "source": [
    "### 3.4. Write"
   ]
  },
  {
   "cell_type": "markdown",
   "metadata": {},
   "source": [
    "Lastly, we persist the unemployment data into the cluster's simulated **HDFS**."
   ]
  }
 ],
 "metadata": {
  "kernelspec": {
   "display_name": "Python 3 (ipykernel)",
   "language": "python",
   "name": "python3"
  },
  "language_info": {
   "codemirror_mode": {
    "name": "ipython",
    "version": 3
   },
   "file_extension": ".py",
   "mimetype": "text/x-python",
   "name": "python",
   "nbconvert_exporter": "python",
   "pygments_lexer": "ipython3",
   "version": "3.9.2"
  }
 },
 "nbformat": 4,
 "nbformat_minor": 4
}
